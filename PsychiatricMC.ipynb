{
  "nbformat": 4,
  "nbformat_minor": 0,
  "metadata": {
    "colab": {
      "name": "PsychiatricMC.ipynb",
      "provenance": [],
      "collapsed_sections": [],
      "authorship_tag": "ABX9TyOM/75GxOUKD6R9cA/7XVHU",
      "include_colab_link": true
    },
    "kernelspec": {
      "name": "python3",
      "display_name": "Python 3"
    }
  },
  "cells": [
    {
      "cell_type": "markdown",
      "metadata": {
        "id": "view-in-github",
        "colab_type": "text"
      },
      "source": [
        "<a href=\"https://colab.research.google.com/github/danielemarcotulli/MSstats/blob/master/PsychiatricMC.ipynb\" target=\"_parent\"><img src=\"https://colab.research.google.com/assets/colab-badge.svg\" alt=\"Open In Colab\"/></a>"
      ]
    },
    {
      "cell_type": "code",
      "metadata": {
        "id": "VnKLOfnoPFwX",
        "colab": {
          "base_uri": "https://localhost:8080/",
          "height": 147
        },
        "outputId": "4eed5a9b-c11c-4856-ca74-b3db868ae178"
      },
      "source": [
        "#@title  { run: \"auto\", vertical-output: true }\n",
        "%%capture\n",
        "\n",
        "from google.colab import files\n",
        "from google.colab import drive\n",
        "from google.colab import auth\n",
        "auth.authenticate_user()\n",
        "import gspread\n",
        "from oauth2client.client import GoogleCredentials\n",
        "\n",
        "import pandas as pd\n",
        "import numpy as np\n",
        "import matplotlib.pyplot as plt\n",
        "import plotly.express as px\n",
        "from datetime import datetime\n",
        "import scipy.stats as sc\n",
        "from sklearn.preprocessing import OneHotEncoder\n",
        "from scipy.stats import ttest_ind\n",
        "from scipy.stats import kstest\n",
        "from scipy.stats import mannwhitneyu\n",
        "from scipy import stats #scegliere una forma delle due per chiamare scipy stats\n",
        "\n",
        "class color:\n",
        "   PURPLE = '\\033[95m'\n",
        "   CYAN = '\\033[96m'\n",
        "   DARKCYAN = '\\033[36m'\n",
        "   BLUE = '\\033[94m'\n",
        "   GREEN = '\\033[92m'\n",
        "   YELLOW = '\\033[93m'\n",
        "   RED = '\\033[91m'\n",
        "   BOLD = '\\033[1m'\n",
        "   UNDERLINE = '\\033[4m'\n",
        "   END = '\\033[0m'\n",
        "\n",
        "pd.set_option('display.max_rows', None)\n",
        "pd.set_option('display.max_columns', None)\n",
        "pd.set_option('display.width', None)\n",
        "pd.set_option('display.max_colwidth', -1)"
      ],
      "execution_count": null,
      "outputs": [
        {
          "output_type": "stream",
          "text": [
            "Go to the following link in your browser:\n",
            "\n",
            "    https://accounts.google.com/o/oauth2/auth?client_id=32555940559.apps.googleusercontent.com&redirect_uri=urn%3Aietf%3Awg%3Aoauth%3A2.0%3Aoob&scope=openid+https%3A%2F%2Fwww.googleapis.com%2Fauth%2Fuserinfo.email+https%3A%2F%2Fwww.googleapis.com%2Fauth%2Fcloud-platform+https%3A%2F%2Fwww.googleapis.com%2Fauth%2Fappengine.admin+https%3A%2F%2Fwww.googleapis.com%2Fauth%2Fcompute+https%3A%2F%2Fwww.googleapis.com%2Fauth%2Faccounts.reauth+https%3A%2F%2Fwww.googleapis.com%2Fauth%2Fdrive&code_challenge=C6WfxHyQAvwm2gJagCiCNLoHYZOYFpibabm7QtrqjFM&code_challenge_method=S256&access_type=offline&response_type=code&prompt=select_account\n",
            "\n",
            "\n",
            "Enter verification code: ··········\n"
          ],
          "name": "stdout"
        }
      ]
    },
    {
      "cell_type": "code",
      "metadata": {
        "id": "Nc5S0mgOSBXj",
        "cellView": "form"
      },
      "source": [
        "#importo orca, necessario per scaricare figure create con plotly express\n",
        "#@title  { run: \"auto\", vertical-output: true }\n",
        "%%capture\n",
        "!wget https://github.com/plotly/orca/releases/download/v1.2.1/orca-1.2.1-x86_64.AppImage -O /usr/local/bin/orca\n",
        "!chmod +x /usr/local/bin/orca\n",
        "!apt-get install xvfb libgtk2.0-0 libgconf-2-4"
      ],
      "execution_count": null,
      "outputs": []
    },
    {
      "cell_type": "code",
      "metadata": {
        "id": "id_5SeUIXwR0"
      },
      "source": [
        "#import per rpy2\n",
        "#@title  { run: \"auto\", vertical-output: true }\n",
        "%%capture\n",
        "%load_ext rpy2.ipython\n",
        "from rpy2.robjects import r, pandas2ri\n",
        "import rpy2.rinterface\n",
        "pandas2ri.activate()\n",
        "import warnings\n",
        "from rpy2.rinterface import RRuntimeWarning\n",
        "warnings.filterwarnings(\"ignore\", category=RRuntimeWarning)\n",
        "import rpy2.robjects as ro\n",
        "from rpy2.robjects.packages import importr\n",
        "from rpy2.robjects import pandas2ri\n",
        "from rpy2.robjects.conversion import localconverter\n",
        "\n",
        "def printf(format, *args):\n",
        "    sys.stdout.write(format % args)"
      ],
      "execution_count": null,
      "outputs": []
    },
    {
      "cell_type": "code",
      "metadata": {
        "id": "01CC8jd2Y2q0"
      },
      "source": [
        "#@title  { run: \"auto\", vertical-output: true }\n",
        "#importo le librerie di R che userò\n",
        "%%capture\n",
        "%%R\n",
        "install.packages('tscount')\n",
        "library(tscount)\n",
        "install.packages('MASS')\n",
        "library(MASS)\n",
        "install.packages('dplyr')\n",
        "library(dplyr)\n",
        "install.packages('glarma')\n",
        "library(glarma)\n",
        "install.packages('DescTools')\n",
        "library(DescTools)"
      ],
      "execution_count": null,
      "outputs": []
    },
    {
      "cell_type": "code",
      "metadata": {
        "id": "3TBZAZmIPLKI"
      },
      "source": [
        "#definisco qualche funzione che utilizzo poi per i plot e per creare i dizionari con le categorie raggruppate\n",
        "def group_in_dict(dict_from, column_name, freq, new_dict_name):\n",
        "  for key, value in dict_from.items():\n",
        "    value['DATE']=pd.to_datetime(value.DATE,  format='%d/%m/%Y')  \n",
        "    new_dict_name[key] = value.loc[value[column_name].index].groupby(pd.Grouper(key='DATE',freq=freq)).sum()\n",
        "    new_dict_name[key] = new_dict_name[key].loc[:, [column_name]]\n",
        "\n",
        "def plot_trend_curve(curva1, curva2, color1, color2):\n",
        "  plt.figure(figsize=(12,5))\n",
        "  ax1 = curva1.plot(color=color1)\n",
        "  ax2 = ax1.twiny()\n",
        "  ax2 = curva2.plot(color=color2)\n",
        "  h1, l1 = ax1.get_legend_handles_labels()\n",
        "  h2, l2 = ax2.get_legend_handles_labels()\n",
        "  plt.legend(h1+h2, loc=2)\n",
        "  plt.savefig('trend_graph.svg')\n",
        "  files.download('trend_graph.svg')\n",
        "  plt.show()\n",
        "\n",
        "def plot_bar(sum_a):\n",
        "  sum_ap = (sum_a/sum_a.sum())*100\n",
        "  fig = px.bar(sum_ap, x=sum_ap, y=sum_ap.index, color=sum_ap.index, orientation='h', labels = {'y': 'Referral reason', 'x': 'percentage'})\n",
        "  fig.update_layout(yaxis={'categoryorder':'total ascending'})\n",
        "  fig.show()\n",
        "  fig.write_image(\"categ_bars.svg\")\n",
        "  files.download('categ_bars.svg')"
      ],
      "execution_count": null,
      "outputs": []
    },
    {
      "cell_type": "code",
      "metadata": {
        "id": "PDKv58r8PSd2"
      },
      "source": [
        "gc = gspread.authorize(GoogleCredentials.get_application_default())"
      ],
      "execution_count": null,
      "outputs": []
    },
    {
      "cell_type": "code",
      "metadata": {
        "id": "7mQy3i2FVH43"
      },
      "source": [
        "#importo il database dei casi NPI 2019 a Torino e creo un database con i soli casi psichiatrici\n",
        "%%capture\n",
        "Tor19 = pd.DataFrame()\n",
        "Tor19p = pd.DataFrame()\n",
        "worksheet = gc.open('Database_2019_2020_Torino').worksheet(\"2019\")\n",
        "rows = worksheet.get_all_values()\n",
        "Tor19 = pd.DataFrame.from_records(rows)\n",
        "Tor19.columns= ['ACCESS', 'PATIENT_ID', 'DATE', 'PSY_NEURO', 'EPISODE', 'PREV_THER', 'STOP_THER', 'PREV_DIAG', 'PREV_NPI', 'GENDER', 'SOCIOECON', 'OUTCOME', 'BIRTHDAY']\n",
        "Tor19 = Tor19.drop(0)\n",
        "Tor19 = Tor19.reset_index()\n",
        "Tor19 = Tor19.replace(r'^\\s*$', '1/1/2009', regex=True)\n",
        "Tor19 = Tor19.dropna(subset=['BIRTHDAY'])\n",
        "Tor19['diff_dates'] = pd.to_datetime(Tor19.DATE,  format='%d/%m/%Y') - pd.to_datetime(Tor19.BIRTHDAY,  format='%d/%m/%Y')\n",
        "Tor19['AGE']=Tor19['diff_dates']/np.timedelta64(1,'Y')\n",
        "Tor19 = Tor19.drop(Tor19[(Tor19['PSY_NEURO'] == '2') & (Tor19['AGE'] > 14)].index)\n",
        "Tor19 = Tor19.reset_index()\n",
        "Tor19 = Tor19.iloc[0:261]\n",
        "Tor19p = Tor19.loc[Tor19[(Tor19['PSY_NEURO'] == '1')].index]\n",
        "Tor19p = Tor19p.reset_index(drop=True)"
      ],
      "execution_count": null,
      "outputs": []
    },
    {
      "cell_type": "code",
      "metadata": {
        "id": "D_OhJOyLPb4-"
      },
      "source": [
        "#importo il database dei casi NPI 2020 a Torino e creo un database con i soli casi psichiatrici\n",
        "%%capture\n",
        "Tor20 = pd.DataFrame()\n",
        "Tor20p = pd.DataFrame()\n",
        "worksheet = gc.open('Database_2019_2020_Torino').worksheet(\"2020\")\n",
        "rows = worksheet.get_all_values()\n",
        "Tor20 = pd.DataFrame.from_records(rows)\n",
        "Tor20.columns= ['ACCESS', 'PATIENT_ID', 'DATE', 'PSY_NEURO', 'EPISODE', 'PREV_THER', 'STOP_THER', 'PREV_DIAG', 'PREV_NPI', 'GENDER', 'SOCIOECON', 'OUTCOME', 'BIRTHDAY']\n",
        "Tor20 = Tor20.loc[1:,:]\n",
        "Tor20 = Tor20.dropna(subset=['PSY_NEURO'])\n",
        "Tor20 = Tor20.reset_index()\n",
        "Tor20 = Tor20.replace(r'^\\s*$', '1/1/2009', regex=True)\n",
        "Tor20 = Tor20.dropna(subset=['BIRTHDAY'])\n",
        "Tor20['diff_dates'] = pd.to_datetime(Tor20.DATE,  format='%d/%m/%Y') - pd.to_datetime(Tor20.BIRTHDAY,  format='%d/%m/%Y')\n",
        "Tor20['AGE']=Tor20['diff_dates']/np.timedelta64(1,'Y')\n",
        "Tor20p = Tor20.loc[Tor20[(Tor20['PSY_NEURO'] == '1')].index]\n",
        "Tor20p = Tor20p.reset_index()"
      ],
      "execution_count": null,
      "outputs": []
    },
    {
      "cell_type": "code",
      "metadata": {
        "id": "bQzjBd60PkIq"
      },
      "source": [
        "%%capture\n",
        "Rom19 = pd.DataFrame()\n",
        "Rom19p = pd.DataFrame()\n",
        "worksheet = gc.open_by_url('https://docs.google.com/spreadsheets/d/1VRyrF0d4dmRVZcjFjyxWTzwtJzRIbJUgFdLzE9mr-6k/edit#gid=981354444').worksheet(\"2019\")\n",
        "rows = worksheet.get_all_values()\n",
        "Rom19 = pd.DataFrame.from_records(rows)\n",
        "Rom19 = Rom19.replace(r'^\\s*$', np.nan, regex=True)\n",
        "Rom19.columns= ['PATIENT_ID',\t'NOME E COGNOME',\t'DATE',\t'PSY_NEURO',\t'EPISODE',\t'EPISODE_cod',\t'PREV_THER',\t'STOP_THER',\t'PREV_DIAG',\t'PREV_DIAG_cod',\t'PREV_NPI',\t'GENDER',\t'SOCIOECON',\t'OUTCOME',\t'BIRTHDAY']\n",
        "Rom19 = Rom19.drop(columns=['NOME E COGNOME',  'SOCIOECON' ])\n",
        "Rom19 = Rom19.dropna(subset=['DATE', 'EPISODE', 'PSY_NEURO'])\n",
        "Rom19 = Rom19.drop(0)\n",
        "Rom19 = Rom19.reset_index()\n",
        "Rom19 = Rom19.replace(r'^\\s*$', '1/1/2009', regex=True)\n",
        "Rom19 = Rom19.replace('29/19/2007', '29/09/2007', regex=True)\n",
        "Rom19 = Rom19.replace('10/02/2010', '10/02/2019', regex=True)\n",
        "Rom19['DATE'] = Rom19['DATE'].replace('12/04/2011', '12/04/2019', regex=True)\n",
        "Rom19 = Rom19.replace('14/19/2003', '14/09/2003', regex=True) \n",
        "Rom19['PSY_NEURO'] = Rom19['PSY_NEURO'].replace({'1/2': '1'})\n",
        "Rom19 = Rom19.dropna(subset=['BIRTHDAY'])\n",
        "Rom19['diff_dates'] = pd.to_datetime(Rom19.DATE,  format='%d/%m/%Y') - pd.to_datetime(Rom19.BIRTHDAY,  format='%d/%m/%Y')\n",
        "Rom19['AGE']= Rom19['diff_dates']/np.timedelta64(1,'Y')\n",
        "Rom19 = Rom19.drop(Rom19[(Rom19['PSY_NEURO'] == '2') & (Rom19['AGE'] > 14)].index)\n",
        "for i in ['22/04/2019', '23/04/2019', '24/04/2019', '25/04/2019', '26/04/2019', '27/04/2019', '28/04/2019', '29/04/2019', '30/04/2019']:\n",
        "  Rom19 = Rom19.drop(Rom19[(Rom19['DATE'] == i)].index)\n",
        "Rom19 = Rom19.reset_index()\n",
        "Rom19p = Rom19.loc[Rom19[(Rom19['PSY_NEURO'] == '1')].index]\n",
        "Rom19p = Rom19p.reset_index(drop=True)"
      ],
      "execution_count": null,
      "outputs": []
    },
    {
      "cell_type": "code",
      "metadata": {
        "id": "cUHeZFZVPvcC"
      },
      "source": [
        "%%capture\n",
        "Rom20 = pd.DataFrame()\n",
        "Rom20p = pd.DataFrame()\n",
        "worksheet = gc.open_by_url('https://docs.google.com/spreadsheets/d/1VRyrF0d4dmRVZcjFjyxWTzwtJzRIbJUgFdLzE9mr-6k/edit#gid=0').worksheet(\"2020\")\n",
        "rows = worksheet.get_all_values()\n",
        "Rom20 = pd.DataFrame.from_records(rows)\n",
        "Rom20.columns= ['PATIENT_ID',\t'NOME E COGNOME',\t'DATE',\t'PSY_NEURO',\t'EPISODE',\t'EPISODE_cod',\t'PREV_THER',\t'STOP_THER',\t'PREV_DIAG',\t'PREV_NPI',\t'GENDER',\t'SOCIOECON',\t'OUTCOME',\t'BIRTHDAY', 'nan']\n",
        "Rom20 = Rom20.replace(r'^\\s*$', np.nan, regex=True)\n",
        "Rom20 = Rom20.drop(columns=['NOME E COGNOME', 'nan', 'SOCIOECON' ])\n",
        "Rom20\n",
        "Rom20 = Rom20.dropna(subset=['DATE', 'EPISODE', 'PSY_NEURO'])\n",
        "Rom20 = Rom20.drop(0)\n",
        "Rom20 = Rom20.reset_index()\n",
        "Rom20['BIRTHDAY'] = Rom20['BIRTHDAY'].replace(r'^\\s*$', np.nan, regex=True)\n",
        "Rom20['BIRTHDAY'] = Rom20['BIRTHDAY'].replace('16 anni', '1/1/2009', regex=True)\n",
        "Rom20['DATE'] = Rom20['DATE'].replace('05/01/5020', '05/01/2020', regex=True)\n",
        "Rom20 = Rom20.replace('09/30/2002', '09/03/2002', regex=True)\n",
        "Rom20 = Rom20.replace('25/02/2003', '25/02/2020', regex=True)\n",
        "Rom20['DATE'] = Rom20['DATE'].replace('18/02/2019', '18/02/2020', regex=True)\n",
        "\n",
        "Rom20 = Rom20.dropna(subset=['BIRTHDAY'])\n",
        "Rom20['diff_dates'] = pd.to_datetime(Rom20.DATE,  format='%d/%m/%Y') - pd.to_datetime(Rom20.BIRTHDAY,  format='%d/%m/%Y')\n",
        "Rom20['AGE']=Rom20['diff_dates']/np.timedelta64(1,'Y')\n",
        "Rom20 = Rom20.drop(Rom20[(Rom20['PSY_NEURO'] == '2') & (Rom20['AGE'] > 14)].index)\n",
        "Rom20 = Rom20.reset_index()\n",
        "Rom20p = Rom20.loc[Rom20[(Rom20['PSY_NEURO'] == '1')].index]\n",
        "Rom20p = Rom20p.reset_index(drop=True)"
      ],
      "execution_count": null,
      "outputs": []
    },
    {
      "cell_type": "code",
      "metadata": {
        "id": "CFsrgGIAP0kp"
      },
      "source": [
        "dict_df = {}\n",
        "dict_df = {'Tor20' : Tor20p}        "
      ],
      "execution_count": null,
      "outputs": []
    },
    {
      "cell_type": "code",
      "metadata": {
        "id": "3S8cyVjyQAb3"
      },
      "source": [
        "enc = OneHotEncoder(handle_unknown='ignore')\n",
        "dict_cat = {}\n",
        "for key, value in dict_df.items():\n",
        "  #value = value.replace({'1/2': '1'})\n",
        "  value['PSY_NEURO'] = value['PSY_NEURO'].astype(int)\n",
        "  X = value['PSY_NEURO'].to_frame()\n",
        "  y = value['DATE'].to_frame()\n",
        "  cat_pn = enc.fit_transform(X, y)\n",
        "  cat_pn_df = pd.DataFrame(cat_pn.todense())\n",
        "  cat_pn_df.columns = ['PSY']\n",
        "  dict_cat[key] = pd.concat([value, cat_pn_df], axis=1)"
      ],
      "execution_count": null,
      "outputs": []
    },
    {
      "cell_type": "code",
      "metadata": {
        "id": "8HdkBb42pw2_"
      },
      "source": [
        "ano = ['anorexia', 'weight loss', 'food intake', 'malnutrition', 'alimentare']\n",
        "agit = ['agitation', 'aggressive', 'agitaz', 'fuga', 'ADHD']\n",
        "psy = ['psychosis', 'hallucination', 'psychotic', 'disperceptions', 'depersonalizz', 'delirio', 'pensiero', 'disperce']\n",
        "mood = ['depression', 'emotional', 'social', 'mood', 'abus','sonno', 'farmaci', 'deflesso']\n",
        "idea = ['ideation', 'idea', 'intenz']\n",
        "attempt = ['attempt', 'TS']\n",
        "NSSI = ['self-harm', 'NSSI', 'cutting', 'autoles', 'foreign', 'self - harm']\n",
        "anxie = ['anxiety', 'scholar', 'pavor', 'ansia', 'panico', 'ossess']\n",
        "conv = ['conversion', 'headache', 'psychogenic', 'somat', 'FND', 'pseudocrisi', 'tosse', 'visivi', 'slugghish ideomotor skills, headache', \n",
        "        'urinary', 'cephalgia', 'sluggish', 'dyspnea', 'gait disorder', 'amnesia', 'lower limb', 'Sincope', 'Tremori', 'Vertigini', 'visus']\n",
        "tic = ['tics', 'Tic']\n",
        "\n",
        "d = {\n",
        "     'anorexia': ano,\n",
        "     'conversion_dis':conv,\n",
        "     'agitation': agit,\n",
        "     'anxiety': anxie,\n",
        "     'psychosis': psy,\n",
        "     'mood_dis': mood,\n",
        "     'self_harm': NSSI,\n",
        "     'suicidal_idea': idea,\n",
        "     'suicidal_attempt':attempt,\n",
        "     }\n",
        "\n",
        "d_num = {\n",
        "    1: ano,\n",
        "    10:tic,\n",
        "    2: conv,\n",
        "    3: agit,\n",
        "    4: anxie,\n",
        "    5: psy,\n",
        "    6: mood,\n",
        "    7: NSSI,\n",
        "    8: idea,\n",
        "    9: attempt\n",
        "     }\n",
        "\n",
        "for key, value in dict_df.items():\n",
        "  value['EPISODE_cat_num'] = 0\n",
        "\n",
        "for key, value in dict_df.items():\n",
        "  for k, v in d_num.items():\n",
        "    pat = '|'.join(v)\n",
        "    mask = value.EPISODE.str.contains(pat, case=False)\n",
        "    value.loc[mask.fillna(False), 'EPISODE_cat_num'] = k"
      ],
      "execution_count": null,
      "outputs": []
    },
    {
      "cell_type": "code",
      "metadata": {
        "id": "RaUc7nYWQGhv"
      },
      "source": [
        "#rimuovo i tic (categoria \"10\") dai database (di Torino e gli psichiatrici classificati come tic a Roma per uniformità).\n",
        "for key, value in dict_df.items():\n",
        "  dict_df[key] =  dict_df[key].drop(dict_df[key][dict_df[key]['EPISODE_cat_num'] == 10].index).reset_index(drop=True)\n",
        "  dict_df[key] =  dict_df[key].drop(dict_df[key][dict_df[key]['EPISODE_cat_num'] == 0].index).reset_index(drop=True)"
      ],
      "execution_count": null,
      "outputs": []
    },
    {
      "cell_type": "code",
      "metadata": {
        "id": "R0FbNlQhiv5X",
        "colab": {
          "base_uri": "https://localhost:8080/",
          "height": 1000
        },
        "outputId": "2b1e546d-5144-4309-d87d-2750dfa3b6a4"
      },
      "source": [
        "dict_df[key]['EPISODE_cat_num']"
      ],
      "execution_count": null,
      "outputs": [
        {
          "output_type": "execute_result",
          "data": {
            "text/plain": [
              "0      4\n",
              "1      8\n",
              "2      4\n",
              "3      8\n",
              "4      7\n",
              "5      3\n",
              "6      3\n",
              "7      4\n",
              "8      8\n",
              "9      9\n",
              "10     6\n",
              "11     9\n",
              "12     8\n",
              "13     4\n",
              "14     4\n",
              "15     3\n",
              "16     4\n",
              "17     3\n",
              "18     5\n",
              "19     4\n",
              "20     1\n",
              "21     8\n",
              "22     4\n",
              "23     3\n",
              "24     9\n",
              "25     9\n",
              "26     4\n",
              "27     3\n",
              "28     1\n",
              "29     9\n",
              "30     7\n",
              "31     2\n",
              "32     9\n",
              "33     6\n",
              "34     8\n",
              "35     8\n",
              "36     1\n",
              "37     2\n",
              "38     3\n",
              "39     9\n",
              "40     3\n",
              "41     8\n",
              "42     8\n",
              "43     3\n",
              "44     4\n",
              "45     9\n",
              "46     3\n",
              "47     3\n",
              "48     7\n",
              "49     9\n",
              "50     7\n",
              "51     5\n",
              "52     1\n",
              "53     8\n",
              "54     8\n",
              "55     9\n",
              "56     2\n",
              "57     3\n",
              "58     1\n",
              "59     4\n",
              "60     4\n",
              "61     9\n",
              "62     3\n",
              "63     5\n",
              "64     1\n",
              "65     3\n",
              "66     6\n",
              "67     7\n",
              "68     8\n",
              "69     8\n",
              "70     3\n",
              "71     4\n",
              "72     7\n",
              "73     9\n",
              "74     3\n",
              "75     6\n",
              "76     6\n",
              "77     8\n",
              "78     1\n",
              "79     7\n",
              "80     7\n",
              "81     7\n",
              "82     7\n",
              "83     2\n",
              "84     8\n",
              "85     9\n",
              "86     6\n",
              "87     3\n",
              "88     3\n",
              "89     5\n",
              "90     3\n",
              "91     5\n",
              "92     1\n",
              "93     9\n",
              "94     3\n",
              "95     3\n",
              "96     9\n",
              "97     7\n",
              "98     4\n",
              "99     7\n",
              "100    3\n",
              "101    8\n",
              "102    3\n",
              "103    3\n",
              "104    8\n",
              "105    3\n",
              "106    9\n",
              "107    1\n",
              "108    1\n",
              "109    8\n",
              "110    3\n",
              "111    3\n",
              "112    1\n",
              "113    3\n",
              "114    9\n",
              "115    7\n",
              "116    7\n",
              "117    3\n",
              "118    4\n",
              "119    4\n",
              "120    8\n",
              "121    1\n",
              "122    3\n",
              "123    1\n",
              "124    3\n",
              "125    4\n",
              "126    3\n",
              "127    1\n",
              "128    3\n",
              "129    4\n",
              "130    4\n",
              "131    4\n",
              "132    3\n",
              "133    8\n",
              "Name: EPISODE_cat_num, dtype: int64"
            ]
          },
          "metadata": {
            "tags": []
          },
          "execution_count": 11
        }
      ]
    },
    {
      "cell_type": "code",
      "metadata": {
        "id": "Limxj_xLqJmD"
      },
      "source": [
        "dict_catnum = {}\n",
        "\n",
        "for key, value in dict_df.items():\n",
        "  X = value['EPISODE_cat_num'].to_frame()\n",
        "  y = value['DATE'].to_frame()\n",
        "  cat_oh = enc.fit_transform(X, y)\n",
        "  cat_oh_df = pd.DataFrame(cat_oh.todense())\n",
        "  cat_cols_name = list(d.keys())\n",
        "  cat_cols_name = cat_cols_name[0:len(cat_oh_df.columns)]\n",
        "  cat_oh_df.columns = cat_cols_name\n",
        "  dict_catnum[key] = pd.concat([value, cat_oh_df], axis=1)"
      ],
      "execution_count": null,
      "outputs": []
    },
    {
      "cell_type": "code",
      "metadata": {
        "id": "ezrm3Pgbxwzv"
      },
      "source": [
        "ricovero = ['ricover', 'Ricover', 'Non dimissibile', 'non dimissibile', '0']\n",
        "dimissione = ['Approfondimento DEA', 'Dimissibile', 'dimissibile', 'dimesso', 'Dimessio', 'dimessio',  'dimessa', 'Dimesso', 'Dimessa', 'Osservazione DEA', 'oculistico', 'no approfondimenti', 'controllo in dh', 'app.to interno', 'Richiesto', '1', '2']\n",
        "\n",
        "out = {0: dimissione,\n",
        "       1: ricovero}\n",
        "\n",
        "for key, value in dict_df.items():\n",
        "  value['outcome_cat'] = 0\n",
        "for key, value in dict_df.items():\n",
        "  for k, v in out.items():\n",
        "    pat = '|'.join(v)\n",
        "    mask = value.OUTCOME.str.contains(pat, case=False)\n",
        "    value.loc[mask.fillna(False), 'outcome_cat'] = k"
      ],
      "execution_count": null,
      "outputs": []
    },
    {
      "cell_type": "code",
      "metadata": {
        "id": "J2fP02ZxyWh0"
      },
      "source": [
        "%%capture\n",
        "dict_out = {}\n",
        "for key, value in dict_df.items():\n",
        "  value['outcome_cat'] = value['outcome_cat'].astype(int)\n",
        "  X = value['outcome_cat'].to_frame()\n",
        "  y = value['DATE'].to_frame()\n",
        "  cat_pn = enc.fit_transform(X, y)\n",
        "  cat_pn_df = pd.DataFrame(cat_pn.todense())\n",
        "  cat_pn_df.columns = ['dimessi', 'ricoverati']\n",
        "  dict_out[key] = pd.concat([value, cat_pn_df], axis=1)"
      ],
      "execution_count": null,
      "outputs": []
    },
    {
      "cell_type": "code",
      "metadata": {
        "id": "EOX8EZIqqLJO"
      },
      "source": [
        "psy_date_w = {}\n",
        "group_in_dict(dict_cat, 'PSY', 'W', psy_date_w)"
      ],
      "execution_count": null,
      "outputs": []
    },
    {
      "cell_type": "code",
      "metadata": {
        "id": "YVyxbJPBTAMv",
        "colab": {
          "base_uri": "https://localhost:8080/",
          "height": 362
        },
        "outputId": "657bf527-e13b-46a0-d9d6-f4b5473f31cc"
      },
      "source": [
        "\n",
        "acs20w = pd.concat([psy_date_w['Tor20']], axis=1).fillna(0)\n",
        "\n",
        "acs20w['psytot20'] = acs20w['PSY'].sum(axis=1)"
      ],
      "execution_count": null,
      "outputs": [
        {
          "output_type": "error",
          "ename": "ValueError",
          "evalue": "ignored",
          "traceback": [
            "\u001b[0;31m---------------------------------------------------------------------------\u001b[0m",
            "\u001b[0;31mValueError\u001b[0m                                Traceback (most recent call last)",
            "\u001b[0;32m<ipython-input-17-a76f3bdc3f20>\u001b[0m in \u001b[0;36m<module>\u001b[0;34m()\u001b[0m\n\u001b[1;32m      2\u001b[0m \u001b[0macs20w\u001b[0m \u001b[0;34m=\u001b[0m \u001b[0mpd\u001b[0m\u001b[0;34m.\u001b[0m\u001b[0mconcat\u001b[0m\u001b[0;34m(\u001b[0m\u001b[0;34m[\u001b[0m\u001b[0mpsy_date_w\u001b[0m\u001b[0;34m[\u001b[0m\u001b[0;34m'Tor20'\u001b[0m\u001b[0;34m]\u001b[0m\u001b[0;34m]\u001b[0m\u001b[0;34m,\u001b[0m \u001b[0maxis\u001b[0m\u001b[0;34m=\u001b[0m\u001b[0;36m1\u001b[0m\u001b[0;34m)\u001b[0m\u001b[0;34m.\u001b[0m\u001b[0mfillna\u001b[0m\u001b[0;34m(\u001b[0m\u001b[0;36m0\u001b[0m\u001b[0;34m)\u001b[0m\u001b[0;34m\u001b[0m\u001b[0;34m\u001b[0m\u001b[0m\n\u001b[1;32m      3\u001b[0m \u001b[0;34m\u001b[0m\u001b[0m\n\u001b[0;32m----> 4\u001b[0;31m \u001b[0macs20w\u001b[0m\u001b[0;34m[\u001b[0m\u001b[0;34m'psytot20'\u001b[0m\u001b[0;34m]\u001b[0m \u001b[0;34m=\u001b[0m \u001b[0macs20w\u001b[0m\u001b[0;34m[\u001b[0m\u001b[0;34m'PSY'\u001b[0m\u001b[0;34m]\u001b[0m\u001b[0;34m.\u001b[0m\u001b[0msum\u001b[0m\u001b[0;34m(\u001b[0m\u001b[0maxis\u001b[0m\u001b[0;34m=\u001b[0m\u001b[0;36m1\u001b[0m\u001b[0;34m)\u001b[0m\u001b[0;34m\u001b[0m\u001b[0;34m\u001b[0m\u001b[0m\n\u001b[0m",
            "\u001b[0;32m/usr/local/lib/python3.6/dist-packages/pandas/core/generic.py\u001b[0m in \u001b[0;36mstat_func\u001b[0;34m(self, axis, skipna, level, numeric_only, min_count, **kwargs)\u001b[0m\n\u001b[1;32m  11180\u001b[0m             \u001b[0mskipna\u001b[0m\u001b[0;34m=\u001b[0m\u001b[0mskipna\u001b[0m\u001b[0;34m,\u001b[0m\u001b[0;34m\u001b[0m\u001b[0;34m\u001b[0m\u001b[0m\n\u001b[1;32m  11181\u001b[0m             \u001b[0mnumeric_only\u001b[0m\u001b[0;34m=\u001b[0m\u001b[0mnumeric_only\u001b[0m\u001b[0;34m,\u001b[0m\u001b[0;34m\u001b[0m\u001b[0;34m\u001b[0m\u001b[0m\n\u001b[0;32m> 11182\u001b[0;31m             \u001b[0mmin_count\u001b[0m\u001b[0;34m=\u001b[0m\u001b[0mmin_count\u001b[0m\u001b[0;34m,\u001b[0m\u001b[0;34m\u001b[0m\u001b[0;34m\u001b[0m\u001b[0m\n\u001b[0m\u001b[1;32m  11183\u001b[0m         )\n\u001b[1;32m  11184\u001b[0m \u001b[0;34m\u001b[0m\u001b[0m\n",
            "\u001b[0;32m/usr/local/lib/python3.6/dist-packages/pandas/core/series.py\u001b[0m in \u001b[0;36m_reduce\u001b[0;34m(self, op, name, axis, skipna, numeric_only, filter_type, **kwds)\u001b[0m\n\u001b[1;32m   3867\u001b[0m \u001b[0;34m\u001b[0m\u001b[0m\n\u001b[1;32m   3868\u001b[0m         \u001b[0;32mif\u001b[0m \u001b[0maxis\u001b[0m \u001b[0;32mis\u001b[0m \u001b[0;32mnot\u001b[0m \u001b[0;32mNone\u001b[0m\u001b[0;34m:\u001b[0m\u001b[0;34m\u001b[0m\u001b[0;34m\u001b[0m\u001b[0m\n\u001b[0;32m-> 3869\u001b[0;31m             \u001b[0mself\u001b[0m\u001b[0;34m.\u001b[0m\u001b[0m_get_axis_number\u001b[0m\u001b[0;34m(\u001b[0m\u001b[0maxis\u001b[0m\u001b[0;34m)\u001b[0m\u001b[0;34m\u001b[0m\u001b[0;34m\u001b[0m\u001b[0m\n\u001b[0m\u001b[1;32m   3870\u001b[0m \u001b[0;34m\u001b[0m\u001b[0m\n\u001b[1;32m   3871\u001b[0m         \u001b[0;32mif\u001b[0m \u001b[0misinstance\u001b[0m\u001b[0;34m(\u001b[0m\u001b[0mdelegate\u001b[0m\u001b[0;34m,\u001b[0m \u001b[0mCategorical\u001b[0m\u001b[0;34m)\u001b[0m\u001b[0;34m:\u001b[0m\u001b[0;34m\u001b[0m\u001b[0;34m\u001b[0m\u001b[0m\n",
            "\u001b[0;32m/usr/local/lib/python3.6/dist-packages/pandas/core/generic.py\u001b[0m in \u001b[0;36m_get_axis_number\u001b[0;34m(cls, axis)\u001b[0m\n\u001b[1;32m    405\u001b[0m             \u001b[0;32mexcept\u001b[0m \u001b[0mKeyError\u001b[0m\u001b[0;34m:\u001b[0m\u001b[0;34m\u001b[0m\u001b[0;34m\u001b[0m\u001b[0m\n\u001b[1;32m    406\u001b[0m                 \u001b[0;32mpass\u001b[0m\u001b[0;34m\u001b[0m\u001b[0;34m\u001b[0m\u001b[0m\n\u001b[0;32m--> 407\u001b[0;31m         \u001b[0;32mraise\u001b[0m \u001b[0mValueError\u001b[0m\u001b[0;34m(\u001b[0m\u001b[0;34mf\"No axis named {axis} for object type {cls}\"\u001b[0m\u001b[0;34m)\u001b[0m\u001b[0;34m\u001b[0m\u001b[0;34m\u001b[0m\u001b[0m\n\u001b[0m\u001b[1;32m    408\u001b[0m \u001b[0;34m\u001b[0m\u001b[0m\n\u001b[1;32m    409\u001b[0m     \u001b[0;34m@\u001b[0m\u001b[0mclassmethod\u001b[0m\u001b[0;34m\u001b[0m\u001b[0;34m\u001b[0m\u001b[0m\n",
            "\u001b[0;31mValueError\u001b[0m: No axis named 1 for object type <class 'pandas.core.series.Series'>"
          ]
        }
      ]
    },
    {
      "cell_type": "code",
      "metadata": {
        "id": "WQwnDQ0DrYfD"
      },
      "source": [
        "dict_ano_w = {}\n",
        "group_in_dict(dict_catnum,  'anorexia', 'W', dict_ano_w)\n",
        "dict_conv_w = {}\n",
        "group_in_dict(dict_catnum,  'conversion_dis', 'W', dict_conv_w)\n",
        "dict_anx_w = {}\n",
        "group_in_dict(dict_catnum,  'anxiety', 'W', dict_anx_w)\n",
        "dict_agit_w = {}\n",
        "group_in_dict(dict_catnum,  'agitation', 'W', dict_agit_w)  \n",
        "dict_psyc_w = {}\n",
        "group_in_dict(dict_catnum,  'psychosis', 'W', dict_psyc_w)  \n",
        "dict_nssi_w = {}\n",
        "group_in_dict(dict_catnum,  'self_harm', 'W', dict_nssi_w) \n",
        "dict_mood_w = {}\n",
        "group_in_dict(dict_catnum,  'mood_dis', 'W', dict_mood_w) \n",
        "dict_idea_w = {}\n",
        "group_in_dict(dict_catnum,  'suicidal_idea', 'W', dict_idea_w) \n",
        "dict_att_w = {}\n",
        "group_in_dict(dict_catnum,  'suicidal_attempt', 'W', dict_att_w) \n",
        "\n",
        "dict_df_categ = {}\n",
        "for i in dict_df.keys():\n",
        "  dict_df_categ[i] = pd.concat([dict_ano_w[i], dict_agit_w[i], dict_conv_w[i], dict_anx_w[i], dict_mood_w[i], \n",
        "                                dict_nssi_w[i], dict_psyc_w[i], dict_idea_w[i], dict_att_w[i]], axis=1)"
      ],
      "execution_count": null,
      "outputs": []
    },
    {
      "cell_type": "code",
      "metadata": {
        "id": "1YRqNjsPzcKb"
      },
      "source": [
        "\n",
        "sum20a = dict_df_categ['Tor20'].iloc[0:25,:].sum() "
      ],
      "execution_count": null,
      "outputs": []
    },
    {
      "cell_type": "code",
      "metadata": {
        "id": "E-fBI_fzk14_"
      },
      "source": [
        ""
      ],
      "execution_count": null,
      "outputs": []
    },
    {
      "cell_type": "code",
      "metadata": {
        "id": "xAPiZgwWzPxw"
      },
      "source": [
        "dict_dmsw = {}\n",
        "group_in_dict(dict_out,  'dimessi', 'W', dict_dmsw)\n",
        "dict_ricw = {}\n",
        "group_in_dict(dict_out,  'ricoverati', 'W', dict_ricw)\n",
        "\n",
        "ricdms19 = pd.concat([dict_dmsw['Tor19'], dict_dmsw['Rom19'], dict_ricw['Tor19'], dict_ricw['Rom19']], axis=1)\n",
        "ricdms20 = pd.concat([dict_dmsw['Tor20'], dict_dmsw['Rom20'], dict_ricw['Tor20'], dict_ricw['Rom20']], axis=1)\n",
        "ricdms19['rictot'] = ricdms19['ricoverati'].sum(axis=1)\n",
        "ricdms19['dmstot'] = ricdms19['dimessi'].sum(axis=1)\n",
        "ricdms20['rictot'] = ricdms20['ricoverati'].sum(axis=1)\n",
        "ricdms20['dmstot'] = ricdms20['dimessi'].sum(axis=1)\n",
        "a19 = ricdms19[['rictot', 'dmstot']].iloc[0:8].sum()\n",
        "b19 = ricdms19[['rictot', 'dmstot']].iloc[8:16].sum()\n",
        "a20 = ricdms20[['rictot', 'dmstot']].iloc[0:8, :].sum()\n",
        "b20 = ricdms20[['rictot', 'dmstot']].iloc[8:16, :].sum()"
      ],
      "execution_count": null,
      "outputs": []
    },
    {
      "cell_type": "code",
      "metadata": {
        "id": "hPUrMJAWT1jn",
        "colab": {
          "base_uri": "https://localhost:8080/",
          "height": 788
        },
        "outputId": "ae247d52-a9c4-4105-8323-8aa649bcd190"
      },
      "source": [
        "print(color.BOLD + 'accessi psichiatrici 2019 e 2020')\n",
        "plot_trend_curve(acs19w.iloc[0:16, :].psytot19, acs20w.iloc[0:16, :].psytot20, 'red', 'blue')\n",
        "print(color.BOLD + 'accessi psichiatrici 2020 a Roma e Torino')\n",
        "plot_trend_curve(psy_date_w['Rom20'].iloc[0:16,:].sum(axis=1), psy_date_w['Tor20'].iloc[0:16,:].sum(axis=1), 'red', 'blue')"
      ],
      "execution_count": null,
      "outputs": [
        {
          "output_type": "stream",
          "text": [
            "\u001b[1maccessi psichiatrici 2019 e 2020\n"
          ],
          "name": "stdout"
        },
        {
          "output_type": "display_data",
          "data": {
            "image/png": "[encoded data removed]",
            "text/plain": [
              "<Figure size 864x360 with 2 Axes>"
            ]
          },
          "metadata": {
            "tags": [],
            "needs_background": "light"
          }
        },
        {
          "output_type": "stream",
          "text": [
            "\u001b[1maccessi psichiatrici 2020 a Roma e Torino\n"
          ],
          "name": "stdout"
        },
        {
          "output_type": "display_data",
          "data": {
            "image/png": "[encoded data removed]",
            "text/plain": [
              "<Figure size 864x360 with 2 Axes>"
            ]
          },
          "metadata": {
            "tags": [],
            "needs_background": "light"
          }
        }
      ]
    },
    {
      "cell_type": "code",
      "metadata": {
        "id": "GClgyD__ueQP"
      },
      "source": [
        "#contingency table diagnosi psichiatriche seconda parte 2019 vs seconda parte 2020\n",
        "diagn1920 = np.array([sum19b, sum20b])"
      ],
      "execution_count": null,
      "outputs": []
    },
    {
      "cell_type": "code",
      "metadata": {
        "id": "4gbAPqTxEBX3",
        "colab": {
          "base_uri": "https://localhost:8080/",
          "height": 251
        },
        "outputId": "59e4f171-e4b3-455f-cdea-851daba469ab"
      },
      "source": [
        "#chi-quadro con correzione di William's sulla contingency table creata sopra\n",
        "%%R -i diagn1920\n",
        "chisq.test(diagn1920)\n",
        "GTest(diagn1920, correct = c(\"williams\"))"
      ],
      "execution_count": null,
      "outputs": [
        {
          "output_type": "stream",
          "text": [
            "R[write to console]: Error in GTest(diagn1920, correct = c(\"williams\")) : \n",
            "  could not find function \"GTest\"\n",
            "Calls: <Anonymous> -> <Anonymous> -> withVisible\n",
            "\n",
            "R[write to console]: In addition: \n",
            "R[write to console]: Warning message:\n",
            "\n",
            "R[write to console]: In chisq.test(diagn1920) :\n",
            "R[write to console]:  Chi-squared approximation may be incorrect\n",
            "\n"
          ],
          "name": "stderr"
        },
        {
          "output_type": "stream",
          "text": [
            "\n",
            "Error in GTest(diagn1920, correct = c(\"williams\")) : \n",
            "  could not find function \"GTest\"\n",
            "Calls: <Anonymous> -> <Anonymous> -> withVisible\n"
          ],
          "name": "stdout"
        }
      ]
    },
    {
      "cell_type": "code",
      "metadata": {
        "id": "8KKfK3rRkjtm"
      },
      "source": [
        "#importo orca, necessario per scaricare figure create con plotly express\n",
        "#@title  { run: \"auto\", vertical-output: true }\n",
        "%%capture\n",
        "!wget https://github.com/plotly/orca/releases/download/v1.2.1/orca-1.2.1-x86_64.AppImage -O /usr/local/bin/orca\n",
        "!chmod +x /usr/local/bin/orca\n",
        "!apt-get install xvfb libgtk2.0-0 libgconf-2-4"
      ],
      "execution_count": null,
      "outputs": []
    },
    {
      "cell_type": "code",
      "metadata": {
        "id": "DHBUzqEpA5AO",
        "colab": {
          "base_uri": "https://localhost:8080/",
          "height": 761
        },
        "outputId": "60867fd0-5d4c-4591-8349-3cc5c397e787"
      },
      "source": [
        "print(color.BOLD + 'distribuzione motivi accesso psichiatrici nel 2020 - prima parte \\n' + color.END, sum20a)\n",
        "plot_bar(sum20a)\n"
      ],
      "execution_count": null,
      "outputs": [
        {
          "output_type": "stream",
          "text": [
            "\u001b[1mdistribuzione motivi accesso psichiatrici nel 2020 - prima parte \n",
            "\u001b[0m anorexia            14.0\n",
            "agitation           34.0\n",
            "conversion_dis      4.0 \n",
            "anxiety             20.0\n",
            "mood_dis            6.0 \n",
            "self_harm           14.0\n",
            "psychosis           5.0 \n",
            "suicidal_idea       20.0\n",
            "suicidal_attempt    17.0\n",
            "dtype: float64\n"
          ],
          "name": "stdout"
        },
        {
          "output_type": "display_data",
          "data": {
            "text/html": [
              "<html>\n",
              "<head><meta charset=\"utf-8\" /></head>\n",
              "<body>\n",
              "    <div>\n",
              "            <script src=\"https://cdnjs.cloudflare.com/ajax/libs/mathjax/2.7.5/MathJax.js?config=TeX-AMS-MML_SVG\"></script><script type=\"text/javascript\">if (window.MathJax) {MathJax.Hub.Config({SVG: {font: \"STIX-Web\"}});}</script>\n",
              "                <script type=\"text/javascript\">window.PlotlyConfig = {MathJaxConfig: 'local'};</script>\n",
              "        <script src=\"https://cdn.plot.ly/plotly-latest.min.js\"></script>    \n",
              "            <div id=\"63b01811-7421-4f7a-a05b-8308b93325d9\" class=\"plotly-graph-div\" style=\"height:525px; width:100%;\"></div>\n",
              "            <script type=\"text/javascript\">\n",
              "                \n",
              "                    window.PLOTLYENV=window.PLOTLYENV || {};\n",
              "                    \n",
              "                if (document.getElementById(\"63b01811-7421-4f7a-a05b-8308b93325d9\")) {\n",
              "                    Plotly.newPlot(\n",
              "                        '63b01811-7421-4f7a-a05b-8308b93325d9',\n",
              "                        [{\"alignmentgroup\": \"True\", \"hoverlabel\": {\"namelength\": 0}, \"hovertemplate\": \"color=anorexia<br>percentage=%{x}<br>Referral reason=%{y}\", \"legendgroup\": \"color=anorexia\", \"marker\": {\"color\": \"#636efa\"}, \"name\": \"color=anorexia\", \"offsetgroup\": \"color=anorexia\", \"orientation\": \"h\", \"showlegend\": true, \"textposition\": \"auto\", \"type\": \"bar\", \"x\": [10.44776119402985], \"xaxis\": \"x\", \"y\": [\"anorexia\"], \"yaxis\": \"y\"}, {\"alignmentgroup\": \"True\", \"hoverlabel\": {\"namelength\": 0}, \"hovertemplate\": \"color=agitation<br>percentage=%{x}<br>Referral reason=%{y}\", \"legendgroup\": \"color=agitation\", \"marker\": {\"color\": \"#EF553B\"}, \"name\": \"color=agitation\", \"offsetgroup\": \"color=agitation\", \"orientation\": \"h\", \"showlegend\": true, \"textposition\": \"auto\", \"type\": \"bar\", \"x\": [25.37313432835821], \"xaxis\": \"x\", \"y\": [\"agitation\"], \"yaxis\": \"y\"}, {\"alignmentgroup\": \"True\", \"hoverlabel\": {\"namelength\": 0}, \"hovertemplate\": \"color=conversion_dis<br>percentage=%{x}<br>Referral reason=%{y}\", \"legendgroup\": \"color=conversion_dis\", \"marker\": {\"color\": \"#00cc96\"}, \"name\": \"color=conversion_dis\", \"offsetgroup\": \"color=conversion_dis\", \"orientation\": \"h\", \"showlegend\": true, \"textposition\": \"auto\", \"type\": \"bar\", \"x\": [2.9850746268656714], \"xaxis\": \"x\", \"y\": [\"conversion_dis\"], \"yaxis\": \"y\"}, {\"alignmentgroup\": \"True\", \"hoverlabel\": {\"namelength\": 0}, \"hovertemplate\": \"color=anxiety<br>percentage=%{x}<br>Referral reason=%{y}\", \"legendgroup\": \"color=anxiety\", \"marker\": {\"color\": \"#ab63fa\"}, \"name\": \"color=anxiety\", \"offsetgroup\": \"color=anxiety\", \"orientation\": \"h\", \"showlegend\": true, \"textposition\": \"auto\", \"type\": \"bar\", \"x\": [14.925373134328357], \"xaxis\": \"x\", \"y\": [\"anxiety\"], \"yaxis\": \"y\"}, {\"alignmentgroup\": \"True\", \"hoverlabel\": {\"namelength\": 0}, \"hovertemplate\": \"color=mood_dis<br>percentage=%{x}<br>Referral reason=%{y}\", \"legendgroup\": \"color=mood_dis\", \"marker\": {\"color\": \"#FFA15A\"}, \"name\": \"color=mood_dis\", \"offsetgroup\": \"color=mood_dis\", \"orientation\": \"h\", \"showlegend\": true, \"textposition\": \"auto\", \"type\": \"bar\", \"x\": [4.477611940298507], \"xaxis\": \"x\", \"y\": [\"mood_dis\"], \"yaxis\": \"y\"}, {\"alignmentgroup\": \"True\", \"hoverlabel\": {\"namelength\": 0}, \"hovertemplate\": \"color=self_harm<br>percentage=%{x}<br>Referral reason=%{y}\", \"legendgroup\": \"color=self_harm\", \"marker\": {\"color\": \"#19d3f3\"}, \"name\": \"color=self_harm\", \"offsetgroup\": \"color=self_harm\", \"orientation\": \"h\", \"showlegend\": true, \"textposition\": \"auto\", \"type\": \"bar\", \"x\": [10.44776119402985], \"xaxis\": \"x\", \"y\": [\"self_harm\"], \"yaxis\": \"y\"}, {\"alignmentgroup\": \"True\", \"hoverlabel\": {\"namelength\": 0}, \"hovertemplate\": \"color=psychosis<br>percentage=%{x}<br>Referral reason=%{y}\", \"legendgroup\": \"color=psychosis\", \"marker\": {\"color\": \"#FF6692\"}, \"name\": \"color=psychosis\", \"offsetgroup\": \"color=psychosis\", \"orientation\": \"h\", \"showlegend\": true, \"textposition\": \"auto\", \"type\": \"bar\", \"x\": [3.731343283582089], \"xaxis\": \"x\", \"y\": [\"psychosis\"], \"yaxis\": \"y\"}, {\"alignmentgroup\": \"True\", \"hoverlabel\": {\"namelength\": 0}, \"hovertemplate\": \"color=suicidal_idea<br>percentage=%{x}<br>Referral reason=%{y}\", \"legendgroup\": \"color=suicidal_idea\", \"marker\": {\"color\": \"#B6E880\"}, \"name\": \"color=suicidal_idea\", \"offsetgroup\": \"color=suicidal_idea\", \"orientation\": \"h\", \"showlegend\": true, \"textposition\": \"auto\", \"type\": \"bar\", \"x\": [14.925373134328357], \"xaxis\": \"x\", \"y\": [\"suicidal_idea\"], \"yaxis\": \"y\"}, {\"alignmentgroup\": \"True\", \"hoverlabel\": {\"namelength\": 0}, \"hovertemplate\": \"color=suicidal_attempt<br>percentage=%{x}<br>Referral reason=%{y}\", \"legendgroup\": \"color=suicidal_attempt\", \"marker\": {\"color\": \"#FF97FF\"}, \"name\": \"color=suicidal_attempt\", \"offsetgroup\": \"color=suicidal_attempt\", \"orientation\": \"h\", \"showlegend\": true, \"textposition\": \"auto\", \"type\": \"bar\", \"x\": [12.686567164179104], \"xaxis\": \"x\", \"y\": [\"suicidal_attempt\"], \"yaxis\": \"y\"}],\n",
              "                        {\"barmode\": \"relative\", \"legend\": {\"tracegroupgap\": 0}, \"margin\": {\"t\": 60}, \"template\": {\"data\": {\"bar\": [{\"error_x\": {\"color\": \"#2a3f5f\"}, \"error_y\": {\"color\": \"#2a3f5f\"}, \"marker\": {\"line\": {\"color\": \"#E5ECF6\", \"width\": 0.5}}, \"type\": \"bar\"}], \"barpolar\": [{\"marker\": {\"line\": {\"color\": \"#E5ECF6\", \"width\": 0.5}}, \"type\": \"barpolar\"}], \"carpet\": [{\"aaxis\": {\"endlinecolor\": \"#2a3f5f\", \"gridcolor\": \"white\", \"linecolor\": \"white\", \"minorgridcolor\": \"white\", \"startlinecolor\": \"#2a3f5f\"}, \"baxis\": {\"endlinecolor\": \"#2a3f5f\", \"gridcolor\": \"white\", \"linecolor\": \"white\", \"minorgridcolor\": \"white\", \"startlinecolor\": \"#2a3f5f\"}, \"type\": \"carpet\"}], \"choropleth\": [{\"colorbar\": {\"outlinewidth\": 0, \"ticks\": \"\"}, \"type\": \"choropleth\"}], \"contour\": [{\"colorbar\": {\"outlinewidth\": 0, \"ticks\": \"\"}, \"colorscale\": [[0.0, \"#0d0887\"], [0.1111111111111111, \"#46039f\"], [0.2222222222222222, \"#7201a8\"], [0.3333333333333333, \"#9c179e\"], [0.4444444444444444, \"#bd3786\"], [0.5555555555555556, \"#d8576b\"], [0.6666666666666666, \"#ed7953\"], [0.7777777777777778, \"#fb9f3a\"], [0.8888888888888888, \"#fdca26\"], [1.0, \"#f0f921\"]], \"type\": \"contour\"}], \"contourcarpet\": [{\"colorbar\": {\"outlinewidth\": 0, \"ticks\": \"\"}, \"type\": \"contourcarpet\"}], \"heatmap\": [{\"colorbar\": {\"outlinewidth\": 0, \"ticks\": \"\"}, \"colorscale\": [[0.0, \"#0d0887\"], [0.1111111111111111, \"#46039f\"], [0.2222222222222222, \"#7201a8\"], [0.3333333333333333, \"#9c179e\"], [0.4444444444444444, \"#bd3786\"], [0.5555555555555556, \"#d8576b\"], [0.6666666666666666, \"#ed7953\"], [0.7777777777777778, \"#fb9f3a\"], [0.8888888888888888, \"#fdca26\"], [1.0, \"#f0f921\"]], \"type\": \"heatmap\"}], \"heatmapgl\": [{\"colorbar\": {\"outlinewidth\": 0, \"ticks\": \"\"}, \"colorscale\": [[0.0, \"#0d0887\"], [0.1111111111111111, \"#46039f\"], [0.2222222222222222, \"#7201a8\"], [0.3333333333333333, \"#9c179e\"], [0.4444444444444444, \"#bd3786\"], [0.5555555555555556, \"#d8576b\"], [0.6666666666666666, \"#ed7953\"], [0.7777777777777778, \"#fb9f3a\"], [0.8888888888888888, \"#fdca26\"], [1.0, \"#f0f921\"]], \"type\": \"heatmapgl\"}], \"histogram\": [{\"marker\": {\"colorbar\": {\"outlinewidth\": 0, \"ticks\": \"\"}}, \"type\": \"histogram\"}], \"histogram2d\": [{\"colorbar\": {\"outlinewidth\": 0, \"ticks\": \"\"}, \"colorscale\": [[0.0, \"#0d0887\"], [0.1111111111111111, \"#46039f\"], [0.2222222222222222, \"#7201a8\"], [0.3333333333333333, \"#9c179e\"], [0.4444444444444444, \"#bd3786\"], [0.5555555555555556, \"#d8576b\"], [0.6666666666666666, \"#ed7953\"], [0.7777777777777778, \"#fb9f3a\"], [0.8888888888888888, \"#fdca26\"], [1.0, \"#f0f921\"]], \"type\": \"histogram2d\"}], \"histogram2dcontour\": [{\"colorbar\": {\"outlinewidth\": 0, \"ticks\": \"\"}, \"colorscale\": [[0.0, \"#0d0887\"], [0.1111111111111111, \"#46039f\"], [0.2222222222222222, \"#7201a8\"], [0.3333333333333333, \"#9c179e\"], [0.4444444444444444, \"#bd3786\"], [0.5555555555555556, \"#d8576b\"], [0.6666666666666666, \"#ed7953\"], [0.7777777777777778, \"#fb9f3a\"], [0.8888888888888888, \"#fdca26\"], [1.0, \"#f0f921\"]], \"type\": \"histogram2dcontour\"}], \"mesh3d\": [{\"colorbar\": {\"outlinewidth\": 0, \"ticks\": \"\"}, \"type\": \"mesh3d\"}], \"parcoords\": [{\"line\": {\"colorbar\": {\"outlinewidth\": 0, \"ticks\": \"\"}}, \"type\": \"parcoords\"}], \"pie\": [{\"automargin\": true, \"type\": \"pie\"}], \"scatter\": [{\"marker\": {\"colorbar\": {\"outlinewidth\": 0, \"ticks\": \"\"}}, \"type\": \"scatter\"}], \"scatter3d\": [{\"line\": {\"colorbar\": {\"outlinewidth\": 0, \"ticks\": \"\"}}, \"marker\": {\"colorbar\": {\"outlinewidth\": 0, \"ticks\": \"\"}}, \"type\": \"scatter3d\"}], \"scattercarpet\": [{\"marker\": {\"colorbar\": {\"outlinewidth\": 0, \"ticks\": \"\"}}, \"type\": \"scattercarpet\"}], \"scattergeo\": [{\"marker\": {\"colorbar\": {\"outlinewidth\": 0, \"ticks\": \"\"}}, \"type\": \"scattergeo\"}], \"scattergl\": [{\"marker\": {\"colorbar\": {\"outlinewidth\": 0, \"ticks\": \"\"}}, \"type\": \"scattergl\"}], \"scattermapbox\": [{\"marker\": {\"colorbar\": {\"outlinewidth\": 0, \"ticks\": \"\"}}, \"type\": \"scattermapbox\"}], \"scatterpolar\": [{\"marker\": {\"colorbar\": {\"outlinewidth\": 0, \"ticks\": \"\"}}, \"type\": \"scatterpolar\"}], \"scatterpolargl\": [{\"marker\": {\"colorbar\": {\"outlinewidth\": 0, \"ticks\": \"\"}}, \"type\": \"scatterpolargl\"}], \"scatterternary\": [{\"marker\": {\"colorbar\": {\"outlinewidth\": 0, \"ticks\": \"\"}}, \"type\": \"scatterternary\"}], \"surface\": [{\"colorbar\": {\"outlinewidth\": 0, \"ticks\": \"\"}, \"colorscale\": [[0.0, \"#0d0887\"], [0.1111111111111111, \"#46039f\"], [0.2222222222222222, \"#7201a8\"], [0.3333333333333333, \"#9c179e\"], [0.4444444444444444, \"#bd3786\"], [0.5555555555555556, \"#d8576b\"], [0.6666666666666666, \"#ed7953\"], [0.7777777777777778, \"#fb9f3a\"], [0.8888888888888888, \"#fdca26\"], [1.0, \"#f0f921\"]], \"type\": \"surface\"}], \"table\": [{\"cells\": {\"fill\": {\"color\": \"#EBF0F8\"}, \"line\": {\"color\": \"white\"}}, \"header\": {\"fill\": {\"color\": \"#C8D4E3\"}, \"line\": {\"color\": \"white\"}}, \"type\": \"table\"}]}, \"layout\": {\"annotationdefaults\": {\"arrowcolor\": \"#2a3f5f\", \"arrowhead\": 0, \"arrowwidth\": 1}, \"coloraxis\": {\"colorbar\": {\"outlinewidth\": 0, \"ticks\": \"\"}}, \"colorscale\": {\"diverging\": [[0, \"#8e0152\"], [0.1, \"#c51b7d\"], [0.2, \"#de77ae\"], [0.3, \"#f1b6da\"], [0.4, \"#fde0ef\"], [0.5, \"#f7f7f7\"], [0.6, \"#e6f5d0\"], [0.7, \"#b8e186\"], [0.8, \"#7fbc41\"], [0.9, \"#4d9221\"], [1, \"#276419\"]], \"sequential\": [[0.0, \"#0d0887\"], [0.1111111111111111, \"#46039f\"], [0.2222222222222222, \"#7201a8\"], [0.3333333333333333, \"#9c179e\"], [0.4444444444444444, \"#bd3786\"], [0.5555555555555556, \"#d8576b\"], [0.6666666666666666, \"#ed7953\"], [0.7777777777777778, \"#fb9f3a\"], [0.8888888888888888, \"#fdca26\"], [1.0, \"#f0f921\"]], \"sequentialminus\": [[0.0, \"#0d0887\"], [0.1111111111111111, \"#46039f\"], [0.2222222222222222, \"#7201a8\"], [0.3333333333333333, \"#9c179e\"], [0.4444444444444444, \"#bd3786\"], [0.5555555555555556, \"#d8576b\"], [0.6666666666666666, \"#ed7953\"], [0.7777777777777778, \"#fb9f3a\"], [0.8888888888888888, \"#fdca26\"], [1.0, \"#f0f921\"]]}, \"colorway\": [\"#636efa\", \"#EF553B\", \"#00cc96\", \"#ab63fa\", \"#FFA15A\", \"#19d3f3\", \"#FF6692\", \"#B6E880\", \"#FF97FF\", \"#FECB52\"], \"font\": {\"color\": \"#2a3f5f\"}, \"geo\": {\"bgcolor\": \"white\", \"lakecolor\": \"white\", \"landcolor\": \"#E5ECF6\", \"showlakes\": true, \"showland\": true, \"subunitcolor\": \"white\"}, \"hoverlabel\": {\"align\": \"left\"}, \"hovermode\": \"closest\", \"mapbox\": {\"style\": \"light\"}, \"paper_bgcolor\": \"white\", \"plot_bgcolor\": \"#E5ECF6\", \"polar\": {\"angularaxis\": {\"gridcolor\": \"white\", \"linecolor\": \"white\", \"ticks\": \"\"}, \"bgcolor\": \"#E5ECF6\", \"radialaxis\": {\"gridcolor\": \"white\", \"linecolor\": \"white\", \"ticks\": \"\"}}, \"scene\": {\"xaxis\": {\"backgroundcolor\": \"#E5ECF6\", \"gridcolor\": \"white\", \"gridwidth\": 2, \"linecolor\": \"white\", \"showbackground\": true, \"ticks\": \"\", \"zerolinecolor\": \"white\"}, \"yaxis\": {\"backgroundcolor\": \"#E5ECF6\", \"gridcolor\": \"white\", \"gridwidth\": 2, \"linecolor\": \"white\", \"showbackground\": true, \"ticks\": \"\", \"zerolinecolor\": \"white\"}, \"zaxis\": {\"backgroundcolor\": \"#E5ECF6\", \"gridcolor\": \"white\", \"gridwidth\": 2, \"linecolor\": \"white\", \"showbackground\": true, \"ticks\": \"\", \"zerolinecolor\": \"white\"}}, \"shapedefaults\": {\"line\": {\"color\": \"#2a3f5f\"}}, \"ternary\": {\"aaxis\": {\"gridcolor\": \"white\", \"linecolor\": \"white\", \"ticks\": \"\"}, \"baxis\": {\"gridcolor\": \"white\", \"linecolor\": \"white\", \"ticks\": \"\"}, \"bgcolor\": \"#E5ECF6\", \"caxis\": {\"gridcolor\": \"white\", \"linecolor\": \"white\", \"ticks\": \"\"}}, \"title\": {\"x\": 0.05}, \"xaxis\": {\"automargin\": true, \"gridcolor\": \"white\", \"linecolor\": \"white\", \"ticks\": \"\", \"title\": {\"standoff\": 15}, \"zerolinecolor\": \"white\", \"zerolinewidth\": 2}, \"yaxis\": {\"automargin\": true, \"gridcolor\": \"white\", \"linecolor\": \"white\", \"ticks\": \"\", \"title\": {\"standoff\": 15}, \"zerolinecolor\": \"white\", \"zerolinewidth\": 2}}}, \"xaxis\": {\"anchor\": \"y\", \"domain\": [0.0, 1.0], \"title\": {\"text\": \"percentage\"}}, \"yaxis\": {\"anchor\": \"x\", \"categoryorder\": \"total ascending\", \"domain\": [0.0, 1.0], \"title\": {\"text\": \"Referral reason\"}}},\n",
              "                        {\"responsive\": true}\n",
              "                    ).then(function(){\n",
              "                            \n",
              "var gd = document.getElementById('63b01811-7421-4f7a-a05b-8308b93325d9');\n",
              "var x = new MutationObserver(function (mutations, observer) {{\n",
              "        var display = window.getComputedStyle(gd).display;\n",
              "        if (!display || display === 'none') {{\n",
              "            console.log([gd, 'removed!']);\n",
              "            Plotly.purge(gd);\n",
              "            observer.disconnect();\n",
              "        }}\n",
              "}});\n",
              "\n",
              "// Listen for the removal of the full notebook cells\n",
              "var notebookContainer = gd.closest('#notebook-container');\n",
              "if (notebookContainer) {{\n",
              "    x.observe(notebookContainer, {childList: true});\n",
              "}}\n",
              "\n",
              "// Listen for the clearing of the current output cell\n",
              "var outputEl = gd.closest('.output');\n",
              "if (outputEl) {{\n",
              "    x.observe(outputEl, {childList: true});\n",
              "}}\n",
              "\n",
              "                        })\n",
              "                };\n",
              "                \n",
              "            </script>\n",
              "        </div>\n",
              "</body>\n",
              "</html>"
            ]
          },
          "metadata": {
            "tags": []
          }
        },
        {
          "output_type": "display_data",
          "data": {
            "application/javascript": [
              "\n",
              "    async function download(id, filename, size) {\n",
              "      if (!google.colab.kernel.accessAllowed) {\n",
              "        return;\n",
              "      }\n",
              "      const div = document.createElement('div');\n",
              "      const label = document.createElement('label');\n",
              "      label.textContent = `Downloading \"${filename}\": `;\n",
              "      div.appendChild(label);\n",
              "      const progress = document.createElement('progress');\n",
              "      progress.max = size;\n",
              "      div.appendChild(progress);\n",
              "      document.body.appendChild(div);\n",
              "\n",
              "      const buffers = [];\n",
              "      let downloaded = 0;\n",
              "\n",
              "      const channel = await google.colab.kernel.comms.open(id);\n",
              "      // Send a message to notify the kernel that we're ready.\n",
              "      channel.send({})\n",
              "\n",
              "      for await (const message of channel.messages) {\n",
              "        // Send a message to notify the kernel that we're ready.\n",
              "        channel.send({})\n",
              "        if (message.buffers) {\n",
              "          for (const buffer of message.buffers) {\n",
              "            buffers.push(buffer);\n",
              "            downloaded += buffer.byteLength;\n",
              "            progress.value = downloaded;\n",
              "          }\n",
              "        }\n",
              "      }\n",
              "      const blob = new Blob(buffers, {type: 'application/binary'});\n",
              "      const a = document.createElement('a');\n",
              "      a.href = window.URL.createObjectURL(blob);\n",
              "      a.download = filename;\n",
              "      div.appendChild(a);\n",
              "      a.click();\n",
              "      div.remove();\n",
              "    }\n",
              "  "
            ],
            "text/plain": [
              "<IPython.core.display.Javascript object>"
            ]
          },
          "metadata": {
            "tags": []
          }
        },
        {
          "output_type": "display_data",
          "data": {
            "application/javascript": [
              "download(\"download_aabdc007-6291-4701-b6e5-111e583fe002\", \"categ_bars.svg\", 18327)"
            ],
            "text/plain": [
              "<IPython.core.display.Javascript object>"
            ]
          },
          "metadata": {
            "tags": []
          }
        }
      ]
    },
    {
      "cell_type": "code",
      "metadata": {
        "id": "prfokaGz7ZAa",
        "colab": {
          "base_uri": "https://localhost:8080/",
          "height": 100
        },
        "outputId": "49baf402-b94f-4c3e-c17b-4c9eb8daf60d"
      },
      "source": [
        "Tor19brd = [28, 17]\n",
        "Rom19brd = [26, 11]\n",
        "Tor20brd = [13, 13]\n",
        "Rom20brd = [14, 10]\n",
        "\n",
        "tor1920rd = np.array([Tor19brd, Tor20brd])\n",
        "rom1920rd = np.array([Rom19brd, Rom20brd])\n",
        "chi2_stat, p_val, dof, ex = stats.chi2_contingency(tor1920rd)\n",
        "print(color.BOLD + \"ricoverati vs dimessi a Torino, secondo intervallo 2019 e 2020, Pearson's chi-squared test, p-value:\" + color.END, p_val)\n",
        "\n",
        "chi2_stat, p_val, dof, ex = stats.chi2_contingency(rom1920rd)\n",
        "print(color.BOLD + \"\\n ricoverati vs dimessi a Roma, secondo intervallo 2019 e 2020, Pearson's chi-squared test, p-value:\" + color.END, p_val)\n",
        "\n",
        "outcome2nd = np.array([b19, b20])\n",
        "chi2_stat, p_val, dof, ex = stats.chi2_contingency(outcome2nd)\n",
        "print(color.BOLD + \"\\n ricoverati vs dimessi, secondo intervallo 2019 e 2020, Pearson's chi-squared test, p-value:\" + color.END, p_val)"
      ],
      "execution_count": null,
      "outputs": [
        {
          "output_type": "stream",
          "text": [
            "\u001b[1mricoverati vs dimessi a Torino, secondo intervallo 2019 e 2020, Pearson's chi-squared test, p-value:\u001b[0m 0.45020183292122795\n",
            "\u001b[1m\n",
            " ricoverati vs dimessi a Roma, secondo intervallo 2019 e 2020, Pearson's chi-squared test, p-value:\u001b[0m 0.4947608207335976\n",
            "\u001b[1m\n",
            " ricoverati vs dimessi, secondo intervallo 2019 e 2020, Pearson's chi-squared test, p-value:\u001b[0m 0.7712316050902519\n"
          ],
          "name": "stdout"
        }
      ]
    },
    {
      "cell_type": "code",
      "metadata": {
        "id": "KqMhP4d4JK35",
        "colab": {
          "base_uri": "https://localhost:8080/",
          "height": 100
        },
        "outputId": "ba50d285-a119-4a97-bb3b-57dcaf8a89c3"
      },
      "source": [
        "#maschi femmine chi squared\n",
        "Tor19bmf = [12,35]\n",
        "Rom19bmf = [16,26]\n",
        "Tor20bmf = [11,15]\n",
        "Rom20bmf = [12,12]\n",
        "\n",
        "mf19b = [28,61]\n",
        "mf20b = [23, 27]\n",
        "\n",
        "mf1920b = np.array([mf19b, mf20b])\n",
        "Tormf1920b = np.array([Tor19bmf, Tor20bmf])\n",
        "Rommf1920b = np.array([Rom19bmf, Rom20bmf])\n",
        "chi2_stat, p_val, dof, ex = stats.chi2_contingency(mf1920b)\n",
        "print(\"ricoverati vs dimessi, secondo intervallo 2019 e 2020, Pearson's chi-squared test, p-value:\" , p_val)\n",
        "\n",
        "chi2_stat, p_val, dof, ex = stats.chi2_contingency(Tormf1920b)\n",
        "print(\"\\n ricoverati vs dimessi, secondo intervallo 2019 e 2020 a Torino, Pearson's chi-squared test, p-value:\" , p_val)\n",
        "\n",
        "chi2_stat, p_val, dof, ex = stats.chi2_contingency(Rommf1920b)\n",
        "print(\"\\n ricoverati vs dimessi, secondo intervallo 2019 e 2020 a Roma, Pearson's chi-squared test, p-value:\" , p_val)"
      ],
      "execution_count": null,
      "outputs": [
        {
          "output_type": "stream",
          "text": [
            "ricoverati vs dimessi, secondo intervallo 2019 e 2020, Pearson's chi-squared test, p-value: 0.12762445213694557\n",
            "\n",
            " ricoverati vs dimessi, secondo intervallo 2019 e 2020 a Torino, Pearson's chi-squared test, p-value: 0.22457894926052963\n",
            "\n",
            " ricoverati vs dimessi, secondo intervallo 2019 e 2020 a Roma, Pearson's chi-squared test, p-value: 0.49493527502445056\n"
          ],
          "name": "stdout"
        }
      ]
    },
    {
      "cell_type": "code",
      "metadata": {
        "id": "3VZxKpBzlP8f",
        "colab": {
          "base_uri": "https://localhost:8080/",
          "height": 1000
        },
        "outputId": "1d06665e-e6fe-44fd-9cb6-e35c5b3bade3"
      },
      "source": [
        "for key, value in dict_df.items():\n",
        "  value['DATE']= pd.to_datetime(value.DATE,  format='%d/%m/%Y') \n",
        "  for i in ['GENDER']:\n",
        "    m = dict_df[key].loc[dict_df[key][dict_df[key]['GENDER'] == '1'].index]\n",
        "    a = pd.DataFrame(m.groupby(pd.Grouper(key='DATE',freq='W'))['GENDER'].count())\n",
        "    b = a.iloc[0:8,:]\n",
        "    print(b)\n",
        "    c=  a.iloc[8:16,:]\n",
        "    print(c)\n",
        "    print(key, 'Maschi -primo intervalo:', b.sum().values)\n",
        "    print(key, 'Maschi - secondo intervalo:', c.sum().values)\n",
        "    f = dict_df[key].loc[dict_df[key][dict_df[key]['GENDER'] == '2'].index]\n",
        "    a = pd.DataFrame(f.groupby(pd.Grouper(key='DATE',freq='W'))['GENDER'].count())\n",
        "    b = a.iloc[0:8,:]\n",
        "    c=  a.iloc[8:16,:]\n",
        "    print(key, 'Femmine -primo intervalo:', b.sum().values)\n",
        "    print(key, 'Femmine - secondo intervalo:', c.sum().values)"
      ],
      "execution_count": null,
      "outputs": [
        {
          "output_type": "stream",
          "text": [
            "            GENDER\n",
            "DATE              \n",
            "2019-01-06  1     \n",
            "2019-01-13  3     \n",
            "2019-01-20  4     \n",
            "2019-01-27  5     \n",
            "2019-02-03  0     \n",
            "2019-02-10  2     \n",
            "2019-02-17  2     \n",
            "2019-02-24  2     \n",
            "            GENDER\n",
            "DATE              \n",
            "2019-03-03  0     \n",
            "2019-03-10  1     \n",
            "2019-03-17  3     \n",
            "2019-03-24  1     \n",
            "2019-03-31  1     \n",
            "2019-04-07  2     \n",
            "2019-04-14  2     \n",
            "2019-04-21  2     \n",
            "Tor19 Maschi -primo intervalo: [19]\n",
            "Tor19 Maschi - secondo intervalo: [12]\n",
            "Tor19 Femmine -primo intervalo: [36]\n",
            "Tor19 Femmine - secondo intervalo: [35]\n",
            "            GENDER\n",
            "DATE              \n",
            "2019-01-13  4     \n",
            "2019-01-20  3     \n",
            "2019-01-27  0     \n",
            "2019-02-03  6     \n",
            "2019-02-10  4     \n",
            "2019-02-17  3     \n",
            "2019-02-24  1     \n",
            "2019-03-03  4     \n",
            "            GENDER\n",
            "DATE              \n",
            "2019-03-10  4     \n",
            "2019-03-17  2     \n",
            "2019-03-24  0     \n",
            "2019-03-31  3     \n",
            "2019-04-07  1     \n",
            "2019-04-14  0     \n",
            "2019-04-21  6     \n",
            "Rom19 Maschi -primo intervalo: [25]\n",
            "Rom19 Maschi - secondo intervalo: [16]\n",
            "Rom19 Femmine -primo intervalo: [28]\n",
            "Rom19 Femmine - secondo intervalo: [26]\n",
            "            GENDER\n",
            "DATE              \n",
            "2020-01-05  3     \n",
            "2020-01-12  2     \n",
            "2020-01-19  8     \n",
            "2020-01-26  6     \n",
            "2020-02-02  5     \n",
            "2020-02-09  5     \n",
            "2020-02-16  7     \n",
            "2020-02-23  1     \n",
            "            GENDER\n",
            "DATE              \n",
            "2020-03-01  0     \n",
            "2020-03-08  0     \n",
            "2020-03-15  1     \n",
            "2020-03-22  2     \n",
            "2020-03-29  3     \n",
            "2020-04-05  0     \n",
            "2020-04-12  3     \n",
            "2020-04-19  2     \n",
            "Tor20 Maschi -primo intervalo: [37]\n",
            "Tor20 Maschi - secondo intervalo: [11]\n",
            "Tor20 Femmine -primo intervalo: [38]\n",
            "Tor20 Femmine - secondo intervalo: [13]\n",
            "            GENDER\n",
            "DATE              \n",
            "2020-01-05  5     \n",
            "2020-01-12  3     \n",
            "2020-01-19  3     \n",
            "2020-01-26  6     \n",
            "2020-02-02  4     \n",
            "2020-02-09  3     \n",
            "2020-02-16  4     \n",
            "2020-02-23  2     \n",
            "            GENDER\n",
            "DATE              \n",
            "2020-03-01  3     \n",
            "2020-03-08  0     \n",
            "2020-03-15  3     \n",
            "2020-03-22  0     \n",
            "2020-03-29  1     \n",
            "2020-04-05  1     \n",
            "2020-04-12  0     \n",
            "2020-04-19  4     \n",
            "Rom20 Maschi -primo intervalo: [30]\n",
            "Rom20 Maschi - secondo intervalo: [12]\n",
            "Rom20 Femmine -primo intervalo: [39]\n",
            "Rom20 Femmine - secondo intervalo: [12]\n"
          ],
          "name": "stdout"
        }
      ]
    },
    {
      "cell_type": "code",
      "metadata": {
        "id": "wE8kxhQv58iH",
        "colab": {
          "base_uri": "https://localhost:8080/",
          "height": 284
        },
        "outputId": "bdffee2f-bba1-4907-9ae6-7b7e796d2911"
      },
      "source": [
        "for key, value in dict_out.items():\n",
        "  value['DATE']= pd.to_datetime(value.DATE,  format='%d/%m/%Y') \n",
        "  for i in ['outcome_cat']:\n",
        "    d = dict_out[key].loc[dict_out[key][dict_out[key]['dimessi'] == 1].index]\n",
        "    a = pd.DataFrame(d.groupby(pd.Grouper(key='DATE',freq='W'))['PATIENT_ID'].count())\n",
        "    b = a.iloc[0:8,:]\n",
        "    c=  a.iloc[8:16,:]\n",
        "    print(key, 'dimessi -primo intervalo:', b.sum().values)\n",
        "    print(key, 'dimessi - secondo intervalo:', c.sum().values)\n",
        "    r = dict_out[key].loc[dict_out[key][dict_out[key]['ricoverati'] == 1].index]\n",
        "    a = pd.DataFrame(r.groupby(pd.Grouper(key='DATE',freq='W'))['PATIENT_ID'].count())\n",
        "    b = a.iloc[0:8,:]\n",
        "    c=  a.iloc[8:16,:]\n",
        "    print(key, 'ricoverati -primo intervalo:', b.sum().values)\n",
        "    print(key, 'ricoverati - secondo intervalo:', c.sum().values)"
      ],
      "execution_count": null,
      "outputs": [
        {
          "output_type": "stream",
          "text": [
            "Tor19 dimessi -primo intervalo: [33]\n",
            "Tor19 dimessi - secondo intervalo: [28]\n",
            "Tor19 ricoverati -primo intervalo: [24]\n",
            "Tor19 ricoverati - secondo intervalo: [17]\n",
            "Rom19 dimessi -primo intervalo: [29]\n",
            "Rom19 dimessi - secondo intervalo: [26]\n",
            "Rom19 ricoverati -primo intervalo: [29]\n",
            "Rom19 ricoverati - secondo intervalo: [11]\n",
            "Tor20 dimessi -primo intervalo: [40]\n",
            "Tor20 dimessi - secondo intervalo: [13]\n",
            "Tor20 ricoverati -primo intervalo: [35]\n",
            "Tor20 ricoverati - secondo intervalo: [13]\n",
            "Rom20 dimessi -primo intervalo: [51]\n",
            "Rom20 dimessi - secondo intervalo: [14]\n",
            "Rom20 ricoverati -primo intervalo: [18]\n",
            "Rom20 ricoverati - secondo intervalo: [10]\n"
          ],
          "name": "stdout"
        }
      ]
    },
    {
      "cell_type": "code",
      "metadata": {
        "id": "_TAVWUvOniu3",
        "colab": {
          "base_uri": "https://localhost:8080/",
          "height": 150
        },
        "outputId": "afa3590b-bf24-4736-8850-51e85448918f"
      },
      "source": [
        "for key, value in dict_df.items():\n",
        "  value['DATE']= pd.to_datetime(value.DATE,  format='%d/%m/%Y') \n",
        "  df = value\n",
        "  for i in ['PATIENT_ID']:\n",
        "    m = dict_df[key].loc[dict_df[key][(dict_df[key]['PREV_NPI'] == '0') & (dict_df[key]['PREV_DIAG'] == '0')].index]\n",
        "    a = pd.DataFrame(m.groupby(pd.Grouper(key='DATE',freq='W'))['PATIENT_ID'].count())\n",
        "    b = a.iloc[0:8,:]\n",
        "    c=  a.iloc[8:16,:]\n",
        "    print(key, 'pazienti senza precedenti -primo intervalo:', b.sum().values)\n",
        "    print(key, 'pazienti senza precedenti - secondo intervalo:', c.sum().values)"
      ],
      "execution_count": null,
      "outputs": [
        {
          "output_type": "stream",
          "text": [
            "Tor19 pazienti senza precedenti -primo intervalo: [18]\n",
            "Tor19 pazienti senza precedenti - secondo intervalo: [16]\n",
            "Rom19 pazienti senza precedenti -primo intervalo: [9]\n",
            "Rom19 pazienti senza precedenti - secondo intervalo: [9]\n",
            "Tor20 pazienti senza precedenti -primo intervalo: [28]\n",
            "Tor20 pazienti senza precedenti - secondo intervalo: [7]\n",
            "Rom20 pazienti senza precedenti -primo intervalo: [20]\n",
            "Rom20 pazienti senza precedenti - secondo intervalo: [2]\n"
          ],
          "name": "stdout"
        }
      ]
    },
    {
      "cell_type": "code",
      "metadata": {
        "id": "4b1CiLR6FLeD",
        "colab": {
          "base_uri": "https://localhost:8080/",
          "height": 713
        },
        "outputId": "d3b61641-e127-4a1e-cf0e-56fe74082795"
      },
      "source": [
        "Age19 = pd.concat([dict_df['Tor19'], dict_df['Rom19']])\n",
        "Age20 = pd.concat([dict_df['Tor20'], dict_df['Rom20']])\n",
        "Age19['DATE1'] = pd.to_datetime(Age19.DATE,  format='%d/%m/%Y') \n",
        "Age20['DATE1'] = pd.to_datetime(Age20.DATE,  format='%d/%m/%Y') \n",
        "\n",
        "#normality check\n",
        "print(color.BOLD + 'Kolgorov-Smirnov test against normal distribution:' + color.END, kstest(Age19['AGE'].loc[Age19[Age19['DATE1'] > '2019-02-24'].index], 'norm'))\n",
        "print(color.BOLD + '\\nKolgorov-Smirnov test against normal distribution:' + color.END, kstest(Age20['AGE'].loc[Age20[Age20['DATE1'] > '2020-02-24'].index], 'norm'))\n",
        "\n",
        "Age2nd = pd.concat([Age19['AGE'].loc[Age19[Age19['DATE1'] > '2019-02-24'].index].reset_index(), Age20['AGE'].loc[Age20[Age20['DATE1'] > '2020-02-24'].index].reset_index()], axis=1)\n",
        "Age1st = pd.concat([Age19['AGE'].loc[Age19[Age19['DATE1'] < '2019-02-24'].index].reset_index(), Age20['AGE'].loc[Age20[Age20['DATE1'] < '2020-02-24'].index].reset_index()], axis=1)\n",
        "\n",
        "print(color.BOLD + '\\n \\nMann-Whitney 2nd interval 2019 vs 2nd interval 2020:' + color.END, \n",
        "      mannwhitneyu(Age19['AGE'].loc[Age19[Age19['DATE1'] > '2019-02-24'].index], Age20['AGE'].loc[Age20[Age20['DATE1'] > '2020-02-24'].index], alternative='two-sided'))\n",
        "print(color.BOLD + '\\nMann-Whitney 2nd interval vs 1st interval 2020:' + color.END, \n",
        "      mannwhitneyu(Age20['AGE'].loc[Age20[Age20['DATE1'] < '2020-02-24'].index], Age20['AGE'].loc[Age20[Age20['DATE1'] > '2020-02-24'].index], alternative='two-sided'))\n",
        "\n",
        "Age2nd = Age2nd.drop(columns='index')\n",
        "Age2nd.columns =['2019b', '2020b']\n",
        "Age1st = Age1st.drop(columns='index')\n",
        "Age1st.columns =['2019a', '2020a']\n",
        "\n",
        "print(color.BOLD + '\\n\\n2nd (upper graph) and 1st (below) interval, Age distribution 2019 vs 2020' + color.END)\n",
        "Age2nd.plot.box()\n",
        "Age1st.plot.box()"
      ],
      "execution_count": null,
      "outputs": [
        {
          "output_type": "stream",
          "text": [
            "\u001b[1mKolgorov-Smirnov test against normal distribution:\u001b[0m KstestResult(statistic=0.9999292955063416, pvalue=0.0)\n",
            "\u001b[1m\n",
            "Kolgorov-Smirnov test against normal distribution:\u001b[0m KstestResult(statistic=0.9994860019728155, pvalue=3.7722392754616295e-293)\n",
            "\u001b[1m\n",
            " \n",
            "Mann-Whitney 2nd interval 2019 vs 2nd interval 2020:\u001b[0m MannwhitneyuResult(statistic=6611.0, pvalue=0.023464343231086666)\n",
            "\u001b[1m\n",
            "Mann-Whitney 2nd interval vs 1st interval 2020:\u001b[0m MannwhitneyuResult(statistic=10855.0, pvalue=0.029120224763543447)\n",
            "\u001b[1m\n",
            "\n",
            "2nd (upper graph) and 1st (below) interval, Age distribution 2019 vs 2020\u001b[0m\n"
          ],
          "name": "stdout"
        },
        {
          "output_type": "execute_result",
          "data": {
            "text/plain": [
              "<matplotlib.axes._subplots.AxesSubplot at 0x7f8bcb4314e0>"
            ]
          },
          "metadata": {
            "tags": []
          },
          "execution_count": 38
        },
        {
          "output_type": "display_data",
          "data": {
            "image/png": "[encoded data removed]",
            "text/plain": [
              "<Figure size 432x288 with 1 Axes>"
            ]
          },
          "metadata": {
            "tags": [],
            "needs_background": "light"
          }
        },
        {
          "output_type": "display_data",
          "data": {
            "image/png": "[encoded data removed]",
            "text/plain": [
              "<Figure size 432x288 with 1 Axes>"
            ]
          },
          "metadata": {
            "tags": [],
            "needs_background": "light"
          }
        }
      ]
    },
    {
      "cell_type": "code",
      "metadata": {
        "id": "LizXfcNtlWoQ",
        "colab": {
          "base_uri": "https://localhost:8080/",
          "height": 50
        },
        "outputId": "b4ab405c-66eb-4430-ad1e-627296e43e9d"
      },
      "source": [
        "dict_df['Rom19']['DATE1'] = pd.to_datetime(dict_df['Rom19'].DATE,  format='%d/%m/%Y') \n",
        "dict_df['Rom20']['DATE1'] = pd.to_datetime(dict_df['Rom20'].DATE,  format='%d/%m/%Y')\n",
        "dict_df['Tor19']['DATE1'] = pd.to_datetime(dict_df['Tor19'].DATE,  format='%d/%m/%Y') \n",
        "dict_df['Tor20']['DATE1'] = pd.to_datetime(dict_df['Tor20'].DATE,  format='%d/%m/%Y')\n",
        "print(mannwhitneyu(dict_df['Rom19']['AGE'].loc[dict_df['Rom19'][dict_df['Rom19']['DATE1'] > '2019-02-24'].index], dict_df['Rom20']['AGE'].loc[dict_df['Rom20'][dict_df['Rom20']['DATE1'] > '2020-02-24'].index], alternative='two-sided'))\n",
        "print(mannwhitneyu(dict_df['Tor19']['AGE'].loc[dict_df['Tor19'][dict_df['Tor19']['DATE1'] > '2019-02-24'].index], dict_df['Tor20']['AGE'].loc[dict_df['Tor20'][dict_df['Tor20']['DATE1'] > '2020-02-24'].index], alternative='two-sided'))"
      ],
      "execution_count": null,
      "outputs": [
        {
          "output_type": "stream",
          "text": [
            "MannwhitneyuResult(statistic=484.0, pvalue=0.5710903962280459)\n",
            "MannwhitneyuResult(statistic=431.5, pvalue=0.039203111903899614)\n"
          ],
          "name": "stdout"
        }
      ]
    },
    {
      "cell_type": "code",
      "metadata": {
        "id": "u6trH53oie2n",
        "colab": {
          "base_uri": "https://localhost:8080/",
          "height": 217
        },
        "outputId": "4eceae46-3e03-41da-c68e-ad8635fe115a"
      },
      "source": [
        "print('2019 1st - median:', Age19['AGE'].loc[Age19[Age19['DATE1'] < '2019-02-24'].index].median())\n",
        "print('2019 1st - iqr_25:', Age19['AGE'].loc[Age19[Age19['DATE1'] < '2019-02-24'].index].quantile(q=0.25))\n",
        "print('2019 1st - iqr_75:', Age19['AGE'].loc[Age19[Age19['DATE1'] < '2019-02-24'].index].quantile(q=0.75))\n",
        "print('2019 2nd - median:', Age19['AGE'].loc[Age19[Age19['DATE1'] > '2019-02-23'].index].median())\n",
        "print('2019 2nd - iqr_25:', Age19['AGE'].loc[Age19[Age19['DATE1'] > '2019-02-23'].index].quantile(q=0.25))\n",
        "print('2019 2nd - iqr_75:', Age19['AGE'].loc[Age19[Age19['DATE1'] > '2019-02-23'].index].quantile(q=0.75))\n",
        "\n",
        "print('2020 1st - median:', Age20['AGE'].loc[Age20[Age20['DATE1'] < '2020-02-24'].index].median())\n",
        "print('2020 1st - iqr_25:', Age20['AGE'].loc[Age20[Age20['DATE1'] < '2020-02-24'].index].quantile(q=0.25))\n",
        "print('2020 1st - iqr_75:', Age20['AGE'].loc[Age20[Age20['DATE1'] < '2020-02-24'].index].quantile(q=0.75))\n",
        "print('2020 2nd - median:', Age20['AGE'].loc[Age20[Age20['DATE1'] > '2020-02-23'].index].median())\n",
        "print('2020 2nd - iqr_25:', Age20['AGE'].loc[Age20[Age20['DATE1'] > '2020-02-23'].index].quantile(q=0.25))\n",
        "print('2020 2nd - iqr_75:', Age20['AGE'].loc[Age20[Age20['DATE1'] > '2020-02-23'].index].quantile(q=0.75))"
      ],
      "execution_count": null,
      "outputs": [
        {
          "output_type": "stream",
          "text": [
            "2019 1st - median: 14.831242256856747\n",
            "2019 1st - iqr_25: 13.12894857526164\n",
            "2019 1st - iqr_75: 16.605405997385297\n",
            "2019 2nd - median: 14.196047831235411\n",
            "2019 2nd - iqr_25: 11.652532221743089\n",
            "2019 2nd - iqr_75: 16.200195760351\n",
            "2020 1st - median: 14.738153418619138\n",
            "2020 1st - iqr_25: 11.879778503323134\n",
            "2020 1st - iqr_75: 16.471248554042862\n",
            "2020 2nd - median: 15.480126217513023\n",
            "2020 2nd - iqr_25: 13.122788284495916\n",
            "2020 2nd - iqr_75: 16.742301347734724\n"
          ],
          "name": "stdout"
        }
      ]
    },
    {
      "cell_type": "code",
      "metadata": {
        "id": "SlOZFdXhSNBC"
      },
      "source": [
        "worksheet = gc.open_by_url('https://docs.google.com/spreadsheets/d/1ZCQ_s9clRqd3enlnjDtTnXn5GioDClcP2ZzObKmelvE/edit').sheet1\n",
        "rows = worksheet.get_all_values()\n",
        "EDTor20 = pd.DataFrame.from_records(rows)\n",
        "EDTor20 = EDTor20.replace(r'^\\s*$', np.nan, regex=True)\n",
        "EDTor20 = EDTor20.reset_index()\n",
        "EDTor20s = EDTor20.loc[:, [0, 1, 20]]\n",
        "EDTor20sel = EDTor20s.loc[EDTor20s[1] == 'Totale']\n",
        "EDTor20sel.columns = ['DATE', 'codice', 'Tot']\n",
        "EDTor20sel = EDTor20sel.reset_index()\n",
        "EDTor20sel['Tot'] =  EDTor20sel['Tot'].str.replace('.', '')\n",
        "EDTor20sel['Tot'] = EDTor20sel['Tot'].astype(int)"
      ],
      "execution_count": null,
      "outputs": []
    },
    {
      "cell_type": "code",
      "metadata": {
        "id": "5asFd6WbVdJh"
      },
      "source": [
        "worksheet = gc.open_by_url('https://docs.google.com/spreadsheets/d/12M0pAnThiyQPBf8ENqC0J8feCvnOoX94DJ1HmKWwOVA/edit?usp=drive_web&ouid=102191434378304040369').sheet1\n",
        "rows = worksheet.get_all_values()\n",
        "EDTor19 = pd.DataFrame.from_records(rows)\n",
        "EDTor19 = EDTor19.replace(r'^\\s*$', np.nan, regex=True)\n",
        "EDTor19 = EDTor19.reset_index()\n",
        "EDTor19s = EDTor19.loc[:, [0, 1, 22]]\n",
        "EDTor19sel = EDTor19s.loc[EDTor19s[1] == 'Totale']\n",
        "EDTor19sel.columns = ['DATE', 'codice', 'Tot']\n",
        "EDTor19sel = EDTor19sel.reset_index()\n",
        "EDTor19sel['Tot'] =  EDTor19sel['Tot'].str.replace('.', '')\n",
        "EDTor19sel['Tot'] = EDTor19sel['Tot'].astype(int)"
      ],
      "execution_count": null,
      "outputs": []
    },
    {
      "cell_type": "code",
      "metadata": {
        "id": "-ZT8RVnfjUpf"
      },
      "source": [
        "worksheet = gc.open_by_url('https://docs.google.com/spreadsheets/d/1FiiiQkhDLlhWlD8WTZLiQ3qV4gQp_8hsLFRREo0TWXU/edit#gid=567110158').worksheet(\"2020\")\n",
        "rows = worksheet.get_all_values()\n",
        "EDRom20 = pd.DataFrame.from_records(rows)\n",
        "EDRom20 = EDRom20.reset_index()\n",
        "EDRom20 = EDRom20.drop(0, 1)\n",
        "EDRom20.columns = EDRom20.iloc[1]\n",
        "EDRom20.columns = [1, 'settimana', 'triage', 'Pronto Soccorso', 'Centrale', 'Pediatrico', '< 18 Anni']\n",
        "EDRom20 = EDRom20.replace(r'^\\s*$', np.nan, regex=True)\n",
        "EDRom20sel = EDRom20.loc[EDRom20['triage'].isna()]\n",
        "EDRom20selacc = EDRom20sel.loc[14:119, 'Pediatrico']\n",
        "RomDEA20 = EDRom20selacc.astype(int).reset_index(drop=True)"
      ],
      "execution_count": null,
      "outputs": []
    },
    {
      "cell_type": "code",
      "metadata": {
        "id": "6v8c88nnXDP8"
      },
      "source": [
        "worksheet = gc.open_by_url('https://docs.google.com/spreadsheets/d/1FiiiQkhDLlhWlD8WTZLiQ3qV4gQp_8hsLFRREo0TWXU/edit#gid=567110158').worksheet(\"2019\")\n",
        "rows = worksheet.get_all_values()\n",
        "EDRom19 = pd.DataFrame.from_records(rows)\n",
        "EDRom19 = EDRom19.reset_index()\n",
        "EDRom19 = EDRom19.drop(0, 1)\n",
        "EDRom19.columns = EDRom19.iloc[1]\n",
        "EDRom19.columns = [1, 'settimana', 'triage', 'Pronto Soccorso', 'Centrale', 'Pediatrico', '< 18 Anni']\n",
        "EDRom19 = EDRom19.replace(r'^\\s*$', np.nan, regex=True)\n",
        "EDRom19sel = EDRom19.loc[EDRom19['triage'].isna()]\n",
        "EDRom19selacc = EDRom19sel.loc[12:95, 'Pediatrico']\n",
        "RomDEA19 = EDRom19selacc.astype(int).reset_index(drop=True)"
      ],
      "execution_count": null,
      "outputs": []
    },
    {
      "cell_type": "code",
      "metadata": {
        "id": "r976jr14GQhw"
      },
      "source": [
        "DEA20 = EDTor20sel['Tot'] + RomDEA20\n",
        "DEA19 = EDTor19sel['Tot'] + RomDEA19"
      ],
      "execution_count": null,
      "outputs": []
    },
    {
      "cell_type": "code",
      "metadata": {
        "id": "B7H-cmgtG8qC"
      },
      "source": [
        "acs19wi = acs19w\n",
        "acs20wi = acs20w\n",
        "acs20wi['DATE'] = acs20wi.index\n",
        "acs20wi['DATE'] = acs20wi['DATE'].dt.strftime('%m-%d')\n",
        "acs19wi['DATE'] = acs19wi.index\n",
        "acs19wi['DATE'] = acs19wi['DATE'].dt.strftime('%m-%d')\n",
        "acs19wi = acs19wi.set_index('DATE')\n",
        "acs20wi = acs20wi.set_index('DATE')\n",
        "acs1920w = pd.concat([acs19wi, acs20wi], axis=1)\n",
        "acs1920w = acs1920w.fillna(0)\n",
        "npi20w = acs1920w['psytot20'].iloc[16:32].reset_index(drop=True)\n",
        "npi19w = acs1920w['psytot19'].iloc[0:16].reset_index(drop=True)\n",
        "tor_npi19w = acs1920w.iloc[0:16, 1]\n",
        "rom_npi19w = acs1920w.iloc[0:16, 2]\n",
        "tor_npi20w = acs1920w.iloc[16:32, 3]\n",
        "rom_npi20w = acs1920w.iloc[16:32, 4]"
      ],
      "execution_count": null,
      "outputs": []
    },
    {
      "cell_type": "code",
      "metadata": {
        "id": "hBRoRYsnVhpL",
        "colab": {
          "base_uri": "https://localhost:8080/",
          "height": 337
        },
        "outputId": "bb8e5546-aa13-4486-f155-5f6e4be5c938"
      },
      "source": [
        "npi20w_perc = (npi20w/npi20w.sum())*100\n",
        "DEA20_perc = (DEA20/DEA20.sum())*100\n",
        "plot_trend_curve(DEA20_perc, npi20w_perc, 'red', 'blue')"
      ],
      "execution_count": null,
      "outputs": [
        {
          "output_type": "display_data",
          "data": {
            "image/png": "[encoded data removed]",
            "text/plain": [
              "<Figure size 864x360 with 2 Axes>"
            ]
          },
          "metadata": {
            "tags": [],
            "needs_background": "light"
          }
        }
      ]
    },
    {
      "cell_type": "code",
      "metadata": {
        "id": "0d0sWb7vnEGW"
      },
      "source": [
        ""
      ],
      "execution_count": null,
      "outputs": []
    },
    {
      "cell_type": "code",
      "metadata": {
        "id": "mFJyiwX1xID9",
        "colab": {
          "base_uri": "https://localhost:8080/",
          "height": 418
        },
        "outputId": "85bc0266-4dcd-4f15-d55f-2b579ee43256"
      },
      "source": [
        "%%R -i tor_npi20w,rom_npi20w\n",
        "npi20rt <- append(tor_npi20w, rom_npi20w)\n",
        "covid0w <- rep(0, 8)\n",
        "covid1w <- rep(1, 8)\n",
        "covidw <- append(covid0w, covid1w)\n",
        "covidw2 <- append(covidw, covidw)\n",
        "covidw2 <- as.factor(covidw2)\n",
        "sitetor <- rep(1, 16)\n",
        "siterom <- rep(2, 16)\n",
        "site <- append(sitetor, siterom)\n",
        "site <- as.factor(site)\n",
        "rt20glm <- glm(npi20rt ~ covidw2 + site, family=poisson(link=log))\n",
        "summary(rt20glm)"
      ],
      "execution_count": null,
      "outputs": [
        {
          "output_type": "stream",
          "text": [
            "\n",
            "Call:\n",
            "glm(formula = npi20rt ~ covidw2 + site, family = poisson(link = log))\n",
            "\n",
            "Deviance Residuals: \n",
            "    Min       1Q   Median       3Q      Max  \n",
            "-2.4354  -0.5962  -0.1593   0.5242   2.8132  \n",
            "\n",
            "Coefficients:\n",
            "            Estimate Std. Error z value Pr(>|z|)    \n",
            "(Intercept)   2.2608     0.1070  21.122  < 2e-16 ***\n",
            "covidw21     -1.0716     0.1639  -6.540 6.16e-11 ***\n",
            "site2        -0.1021     0.1430  -0.714    0.475    \n",
            "---\n",
            "Signif. codes:  0 ‘***’ 0.001 ‘**’ 0.01 ‘*’ 0.05 ‘.’ 0.1 ‘ ’ 1\n",
            "\n",
            "(Dispersion parameter for poisson family taken to be 1)\n",
            "\n",
            "    Null deviance: 87.222  on 31  degrees of freedom\n",
            "Residual deviance: 37.603  on 29  degrees of freedom\n",
            "AIC: 150.56\n",
            "\n",
            "Number of Fisher Scoring iterations: 5\n",
            "\n"
          ],
          "name": "stdout"
        }
      ]
    },
    {
      "cell_type": "code",
      "metadata": {
        "id": "2bSs1jfG4Dsa",
        "colab": {
          "base_uri": "https://localhost:8080/",
          "height": 418
        },
        "outputId": "32cf9bf0-ed85-488d-a071-653b8d22683a"
      },
      "source": [
        "%%R -i tor_npi19w,rom_npi19w\n",
        "npi19rt <- append(tor_npi19w, rom_npi19w)\n",
        "covid0w <- rep(0, 8)\n",
        "covid1w <- rep(1, 8)\n",
        "covidw <- append(covid0w, covid1w)\n",
        "covidw2 <- append(covidw, covidw)\n",
        "covidw2 <- as.factor(covidw2)\n",
        "sitetor <- rep(1, 16)\n",
        "siterom <- rep(2, 16)\n",
        "site <- append(sitetor, siterom)\n",
        "site <- as.factor(site)\n",
        "rt19glm <- glm(npi19rt ~ covidw2 + site, family=poisson(link=log))\n",
        "summary(rt19glm)"
      ],
      "execution_count": null,
      "outputs": [
        {
          "output_type": "stream",
          "text": [
            "\n",
            "Call:\n",
            "glm(formula = npi19rt ~ covidw2 + site, family = poisson(link = log))\n",
            "\n",
            "Deviance Residuals: \n",
            "    Min       1Q   Median       3Q      Max  \n",
            "-3.3920  -0.3584   0.3059   0.6486   1.2748  \n",
            "\n",
            "Coefficients:\n",
            "            Estimate Std. Error z value Pr(>|z|)    \n",
            "(Intercept)   1.8410     0.1160  15.869  < 2e-16 ***\n",
            "covidw21     -0.1011     0.1162  -0.870    0.384    \n",
            "site2         0.7390     0.1241   5.956 2.58e-09 ***\n",
            "---\n",
            "Signif. codes:  0 ‘***’ 0.001 ‘**’ 0.01 ‘*’ 0.05 ‘.’ 0.1 ‘ ’ 1\n",
            "\n",
            "(Dispersion parameter for poisson family taken to be 1)\n",
            "\n",
            "    Null deviance: 73.996  on 31  degrees of freedom\n",
            "Residual deviance: 35.302  on 29  degrees of freedom\n",
            "AIC: 167.27\n",
            "\n",
            "Number of Fisher Scoring iterations: 4\n",
            "\n"
          ],
          "name": "stdout"
        }
      ]
    },
    {
      "cell_type": "code",
      "metadata": {
        "id": "gA_XWTDw7S_A",
        "colab": {
          "base_uri": "https://localhost:8080/",
          "height": 452
        },
        "outputId": "b6638f2b-8189-47e8-a375-a4e7f8a86151"
      },
      "source": [
        "%%R -i tor_npi19w,rom_npi19w,tor_npi20w,rom_npi20w\n",
        "npi20rt <- append(tor_npi20w[9:16], rom_npi20w[9:16])\n",
        "npi19rt <- append(tor_npi19w[9:16], rom_npi19w[9:16])\n",
        "npi1920rt <- append(npi19rt, npi20rt)\n",
        "print(length(npi1920rt))\n",
        "covid0w <- rep(0, 16)\n",
        "covid1w <- rep(1, 16)\n",
        "covidw <- append(covid0w, covid1w)\n",
        "#covidw2 <- append(covidw, covidw)\n",
        "covidw <- as.factor(covidw)\n",
        "print(length(covidw))\n",
        "sitetor <- rep(1, 8)\n",
        "siterom <- rep(2, 8)\n",
        "sitert <-append(sitetor, siterom)\n",
        "site <- append(sitert, sitert)\n",
        "sitert <- as.factor(sitert)\n",
        "rt19glm <- glm(npi1920rt ~ covidw + site, family=poisson(link=log))\n",
        "summary(rt19glm)"
      ],
      "execution_count": null,
      "outputs": [
        {
          "output_type": "stream",
          "text": [
            "[1] 32\n",
            "[1] 32\n",
            "\n",
            "Call:\n",
            "glm(formula = npi1920rt ~ covidw + site, family = poisson(link = log))\n",
            "\n",
            "Deviance Residuals: \n",
            "    Min       1Q   Median       3Q      Max  \n",
            "-2.7907  -1.0142   0.1369   0.5919   2.2064  \n",
            "\n",
            "Coefficients:\n",
            "            Estimate Std. Error z value Pr(>|z|)    \n",
            "(Intercept)   1.3913     0.2565   5.423 5.86e-08 ***\n",
            "covidw1      -1.0367     0.1646  -6.299 3.00e-10 ***\n",
            "site          0.5025     0.1493   3.365 0.000765 ***\n",
            "---\n",
            "Signif. codes:  0 ‘***’ 0.001 ‘**’ 0.01 ‘*’ 0.05 ‘.’ 0.1 ‘ ’ 1\n",
            "\n",
            "(Dispersion parameter for poisson family taken to be 1)\n",
            "\n",
            "    Null deviance: 98.969  on 31  degrees of freedom\n",
            "Residual deviance: 42.118  on 29  degrees of freedom\n",
            "AIC: 153.47\n",
            "\n",
            "Number of Fisher Scoring iterations: 5\n",
            "\n"
          ],
          "name": "stdout"
        }
      ]
    },
    {
      "cell_type": "code",
      "metadata": {
        "id": "3sRpzoe1xIAv"
      },
      "source": [
        ""
      ],
      "execution_count": null,
      "outputs": []
    },
    {
      "cell_type": "code",
      "metadata": {
        "id": "qnL0O1IhxX4s",
        "colab": {
          "base_uri": "https://localhost:8080/",
          "height": 569
        },
        "outputId": "1fbc649d-b828-4ca1-b8fd-6ff34d2c263c"
      },
      "source": [
        "#modello con offset\n",
        "%%R -i npi20w,DEA20\n",
        "covid0w <- rep(0, 8)\n",
        "covid1w <- rep(1, 8)\n",
        "covidw <- append(covid0w, covid1w)\n",
        "# mod19go <- glarma(npi19w, offset=log(DEA19),  residuals = \"Pearson\", X = cbind(intercept=rep(1, length(npi19w)), covidw), thetaLags=1, type = \"Poi\") #, offset=log(DEA20\n",
        "# summary(mod19go)\n",
        "\n",
        "mod20go <- glarma(npi20w, offset=log(DEA20),  residuals = \"Pearson\", X = cbind(intercept=rep(1, length(npi20w)), covidw), thetaLags=1, type = \"Poi\") #, offset=log(DEA20\n",
        "summary(mod20go)"
      ],
      "execution_count": null,
      "outputs": [
        {
          "output_type": "stream",
          "text": [
            "\n",
            "Call: glarma(y = npi20w, X = cbind(intercept = rep(1, length(npi20w)), \n",
            "    covidw), offset = log(DEA20), type = \"Poi\", residuals = \"Pearson\", \n",
            "    thetaLags = 1)\n",
            "\n",
            "Pearson Residuals:\n",
            "     Min        1Q    Median        3Q       Max  \n",
            "-0.92824  -0.57805  -0.00843   0.55732   1.38739  \n",
            "\n",
            "GLARMA Coefficients:\n",
            "        Estimate Std.Error z-ratio Pr(>|z|)  \n",
            "theta_1  0.14526   0.08752    1.66   0.0969 .\n",
            "\n",
            "Linear Model Coefficients:\n",
            "          Estimate Std.Error z-ratio Pr(>|z|)    \n",
            "intercept  -4.3757    0.1263 -34.637   <2e-16 ***\n",
            "covidw      0.2559    0.2095   1.221    0.222    \n",
            "\n",
            "    Null deviance: 11.050  on 15  degrees of freedom\n",
            "Residual deviance:  7.398  on 13  degrees of freedom\n",
            "AIC: 80.25972 \n",
            "\n",
            "Number of Fisher Scoring iterations: 30\n",
            "\n",
            "LRT and Wald Test:\n",
            "Alternative hypothesis: model is a GLARMA process\n",
            "Null hypothesis: model is a GLM with the same regression structure\n",
            "          Statistic p-value  \n",
            "LR Test       1.337  0.2475  \n",
            "Wald Test     2.755  0.0969 .\n",
            "---\n",
            "Signif. codes:  0 ‘***’ 0.001 ‘**’ 0.01 ‘*’ 0.05 ‘.’ 0.1 ‘ ’ 1\n",
            "\n"
          ],
          "name": "stdout"
        }
      ]
    },
    {
      "cell_type": "code",
      "metadata": {
        "id": "l-TBiUs17mhC"
      },
      "source": [
        "%%R -i tor_npi20w,rom_npi20w,tor_npi19w,rom_npi19w\n",
        "tor20g <- glarma(tor_npi20w, residuals = \"Pearson\", X = cbind(intercept=rep(1, length(tor_npi20w)), covidw),  type = \"Poi\") #, offset=log(DEA20\n",
        "summary(tor20g)\n",
        "\n",
        "rom20g <- glarma(rom_npi20w, residuals = \"Pearson\", X = cbind(intercept=rep(1, length(rom_npi20w)), covidw),  type = \"Poi\") #, offset=log(DEA20\n",
        "summary(rom20g)"
      ],
      "execution_count": null,
      "outputs": []
    },
    {
      "cell_type": "code",
      "metadata": {
        "id": "6a4G2nCVXu07"
      },
      "source": [
        "%%R -i npi19w\n",
        "library(glarma)\n",
        "covid0w <- rep(0, 8)\n",
        "covid1w <- rep(1, 8)\n",
        "covidw <- append(covid0w, covid1w)\n",
        "mod20g <- glarma(npi20w,  residuals = \"Pearson\", X = cbind(intercept=rep(1, length(npi20w)), covidw), thetaLags=1,type = \"Poi\")  #, offset=log(DEA20\n",
        "mod19g <- glarma(npi19w,  residuals = \"Pearson\", X = cbind(intercept=rep(1, length(npi19w)), covidw), thetaLags=1, type = \"Poi\") #\n",
        "summary(mod19g)"
      ],
      "execution_count": null,
      "outputs": []
    },
    {
      "cell_type": "code",
      "metadata": {
        "id": "keoEE1rlPhdF"
      },
      "source": [
        "%%R -i npi19w\n",
        "print(npi19w)"
      ],
      "execution_count": null,
      "outputs": []
    },
    {
      "cell_type": "code",
      "metadata": {
        "id": "cAhxM01cJHTk"
      },
      "source": [
        "#glm Poisson for prediction 8 weeks ahead\n",
        "%%R -i npi19w,npi20w -o mod20glm,glmpred\n",
        "covid0w <- rep(0, 8)\n",
        "covid1w <- rep(1, 7)\n",
        "covidw <- append(covid0w, covid1w)\n",
        "mod20glm <- glm(npi20w[0:8] ~ npi19w[0:8], family=poisson(link=log))\n",
        "\n",
        "glmpred <- predict(mod20glm, newdata = data.frame(cbind(npi19w[9:16])),\n",
        "            type = c(\"response\"))"
      ],
      "execution_count": null,
      "outputs": []
    },
    {
      "cell_type": "code",
      "metadata": {
        "id": "SH9oxtqmNuiV"
      },
      "source": [
        "%%capture\n",
        "%%R\n",
        "install.packages('ciTools')\n",
        "library(ciTools)"
      ],
      "execution_count": null,
      "outputs": []
    },
    {
      "cell_type": "code",
      "metadata": {
        "id": "VfzYYi5DxCJX",
        "colab": {
          "base_uri": "https://localhost:8080/",
          "height": 301
        },
        "outputId": "d9bbd26a-cff0-4102-be9b-f3ff122e6eb5"
      },
      "source": [
        "%%R -i mod20glm -o pred_obs_20 \n",
        "# library(plyr)\n",
        "# bootSimFun <- function(fit,data) {\n",
        "#     bdat <- data[sample(seq(nrow(data)),size=nrow(data),replace=TRUE),]\n",
        "#     bfit <- update(fit,data=bdat)\n",
        "#     bpred <- predict(bfit,type=\"response\", newdata= data.frame(cbind(npi19w[9:16])))\n",
        "#     rpois(length(bpred),lambda=bpred)\n",
        "# }\n",
        "# set.seed(101) \n",
        "# simvals <- raply(500,bootSimFun(fit=mod20glm, data= data.frame(cbind(npi20w[0:8], nrow=8))   ))\n",
        "# CI <- t(apply(simvals,2,quantile,c(0.025,0.975))) \n",
        "\n",
        "CIs <- add_pi(data.frame(cbind(npi19w[9:16])), mod20glm)\n",
        "a <- pull(CIs, LPB0.025)\n",
        "b <- pull(CIs, UPB0.975)\n",
        "pred20 <- append(npi20w[0:8], glmpred)\n",
        "pred20il <- append(npi20w[0:8], a)\n",
        "pred20iu <- append(npi20w[0:8], b)\n",
        "settimane <- c(1,2,3,4,5,6,7,8,9,10,11,12,13,14,15, 16)\n",
        "pred_obs_20 <-cbind(settimane, npi20w, npi19w, pred20, pred20il, pred20iu)\n",
        "print(pred_obs_20)\n",
        "# print(CIs)"
      ],
      "execution_count": null,
      "outputs": [
        {
          "output_type": "stream",
          "text": [
            "   settimane npi20w npi19w   pred20 pred20il pred20iu\n",
            "0          1     13      3 13.00000       13       13\n",
            "1          2     14     16 14.00000       14       14\n",
            "2          3     15     16 15.00000       15       15\n",
            "3          4     20     18 20.00000       20       20\n",
            "4          5     18     15 18.00000       18       18\n",
            "5          6     21     15 21.00000       21       21\n",
            "6          7     25     14 25.00000       25       25\n",
            "7          8     20      9 20.00000       20       20\n",
            "8          9     11     13 15.63298        7       27\n",
            "9         10      6     11 18.96960       11       29\n",
            "10        11      6     14 18.96960       10       29\n",
            "11        12      5     12 19.54266       10       31\n",
            "12        13      5     14 18.68940       10       29\n",
            "13        14      4      7 18.68940       10       28\n",
            "14        15      5     11 18.41334       10       28\n",
            "15        16      8     13 17.09301        9       27\n"
          ],
          "name": "stdout"
        }
      ]
    },
    {
      "cell_type": "code",
      "metadata": {
        "id": "Buq34So9Y6yG"
      },
      "source": [
        "%%R\n",
        "exp(-0.97)"
      ],
      "execution_count": null,
      "outputs": []
    },
    {
      "cell_type": "code",
      "metadata": {
        "id": "KwEuLF1kqENE",
        "colab": {
          "base_uri": "https://localhost:8080/",
          "height": 301
        },
        "outputId": "8fb52c2d-3ccb-4eca-d0ed-c4b869fe3235"
      },
      "source": [
        "with localconverter(ro.default_converter + pandas2ri.converter):\n",
        "  pd_pred_obs = ro.conversion.rpy2py(pred_obs_20)\n",
        "\n",
        "pd_pred_obs20 = pd.DataFrame(data=pd_pred_obs, columns=[\"Week\", \"obs\", \"obs19\", \"pred\", \"lower\", \"upper\"])\n",
        "print(pd_pred_obs20)"
      ],
      "execution_count": null,
      "outputs": [
        {
          "output_type": "stream",
          "text": [
            "    Week   obs  obs19       pred  lower  upper\n",
            "0   1.0   13.0  3.0    13.000000  13.0   13.0 \n",
            "1   2.0   14.0  16.0   14.000000  14.0   14.0 \n",
            "2   3.0   15.0  16.0   15.000000  15.0   15.0 \n",
            "3   4.0   20.0  18.0   20.000000  20.0   20.0 \n",
            "4   5.0   18.0  15.0   18.000000  18.0   18.0 \n",
            "5   6.0   21.0  15.0   21.000000  21.0   21.0 \n",
            "6   7.0   25.0  14.0   25.000000  25.0   25.0 \n",
            "7   8.0   20.0  9.0    20.000000  20.0   20.0 \n",
            "8   9.0   11.0  13.0   15.632982  7.0    27.0 \n",
            "9   10.0  6.0   11.0   18.969600  11.0   29.0 \n",
            "10  11.0  6.0   14.0   18.969600  10.0   29.0 \n",
            "11  12.0  5.0   12.0   19.542664  10.0   31.0 \n",
            "12  13.0  5.0   14.0   18.689401  10.0   29.0 \n",
            "13  14.0  4.0   7.0    18.689401  10.0   28.0 \n",
            "14  15.0  5.0   11.0   18.413340  10.0   28.0 \n",
            "15  16.0  8.0   13.0   17.093012  9.0    27.0 \n"
          ],
          "name": "stdout"
        }
      ]
    },
    {
      "cell_type": "code",
      "metadata": {
        "id": "HCTf439UftBT",
        "colab": {
          "base_uri": "https://localhost:8080/",
          "height": 320
        },
        "outputId": "e4aabc1c-bc7b-4f76-a7ee-3bda9ca797e3"
      },
      "source": [
        "plt.figure(figsize=(12,5))\n",
        "ax1 = pd_pred_obs20.obs.plot(color='blue')\n",
        "#ax2 = ax1.twiny()\n",
        "ax2 = pd_pred_obs20.pred.plot(color='red')\n",
        "ax2.fill_between((pd_pred_obs20.Week-1), pd_pred_obs20.lower, pd_pred_obs20.upper, color='red', alpha=0.2)\n",
        "#ax3 = ax1.twiny()\n",
        "ax3 = pd_pred_obs20.obs19.plot(color='green')\n",
        "ax1.set_label('obs')\n",
        "ax1.set_label('pred')\n",
        "plt.legend(loc=2)\n",
        "plt.savefig('obs.svg')\n",
        "files.download('obs.svg')"
      ],
      "execution_count": null,
      "outputs": [
        {
          "output_type": "display_data",
          "data": {
            "image/png": "[encoded data removed]",
            "text/plain": [
              "<Figure size 864x360 with 1 Axes>"
            ]
          },
          "metadata": {
            "tags": [],
            "needs_background": "light"
          }
        }
      ]
    }
  ]
}